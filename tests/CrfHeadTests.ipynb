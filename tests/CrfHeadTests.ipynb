{
 "cells": [
  {
   "cell_type": "code",
   "execution_count": 1,
   "id": "e755aee1",
   "metadata": {},
   "outputs": [],
   "source": [
    "%load_ext autoreload\n",
    "%autoreload 2"
   ]
  },
  {
   "cell_type": "code",
   "execution_count": 2,
   "id": "479dfaa9",
   "metadata": {},
   "outputs": [
    {
     "data": {
      "text/plain": [
       "'2.2.1'"
      ]
     },
     "execution_count": 2,
     "metadata": {},
     "output_type": "execute_result"
    }
   ],
   "source": [
    "import torch\n",
    "\n",
    "import numpy as np\n",
    "from itertools import groupby\n",
    "\n",
    "torch.__version__"
   ]
  },
  {
   "cell_type": "code",
   "execution_count": 3,
   "id": "e8132a4f",
   "metadata": {
    "lines_to_next_cell": 1
   },
   "outputs": [],
   "source": [
    "from torchcondirf.crf_head import CrfHead\n",
    "from torchcondirf import util"
   ]
  },
  {
   "cell_type": "code",
   "execution_count": 4,
   "id": "60b4c253",
   "metadata": {},
   "outputs": [],
   "source": [
    "def groupby_slices(labels, key=None):\n",
    "    group_lengths = []\n",
    "    values = []\n",
    "    for value, group in groupby(labels, key):\n",
    "        group_lengths.append(sum(1 for _ in group))\n",
    "        values.append(value)\n",
    "    ends = np.cumsum(group_lengths)\n",
    "    starts = np.r_[0, np.roll(ends, 1)[1:]]\n",
    "\n",
    "    return [*zip(starts, ends, values)]"
   ]
  },
  {
   "cell_type": "code",
   "execution_count": 5,
   "id": "0c265ba9",
   "metadata": {},
   "outputs": [],
   "source": [
    "def myget(list_, index, other=None): \n",
    "    \"\"\"Like dict.get but works for lists and tuples.\"\"\"\n",
    "    try:\n",
    "        return list_[index]\n",
    "    except (KeyError, IndexError):\n",
    "        return other"
   ]
  },
  {
   "cell_type": "code",
   "execution_count": 6,
   "id": "4c79619e",
   "metadata": {},
   "outputs": [
    {
     "data": {
      "text/plain": [
       "(-1, None)"
      ]
     },
     "execution_count": 6,
     "metadata": {},
     "output_type": "execute_result"
    }
   ],
   "source": [
    "myget([1, 2], 3, -1), myget({\"a\": 1}, \"b\")"
   ]
  },
  {
   "cell_type": "code",
   "execution_count": 7,
   "id": "5ae1bc6e",
   "metadata": {},
   "outputs": [],
   "source": [
    "from collections.abc import Iterable\n",
    "from copy import deepcopy\n",
    "from typing import List\n",
    "import pandas as pd"
   ]
  },
  {
   "cell_type": "markdown",
   "id": "17ac91c6",
   "metadata": {},
   "source": [
    "## Getting an actual controlled test"
   ]
  },
  {
   "cell_type": "markdown",
   "id": "d8841054",
   "metadata": {},
   "source": [
    "First, some tooling for masking and computing scores:"
   ]
  },
  {
   "cell_type": "code",
   "execution_count": 8,
   "id": "8320ea4b",
   "metadata": {},
   "outputs": [],
   "source": [
    "def convert_constraints(batch_tag_observations):\n",
    "    \"\"\"\n",
    "    Converts partial observations into the format for tag constraints, \n",
    "    namely (start, end, allowed_tag)\n",
    "    \"\"\"\n",
    "    constraints = []\n",
    "    for i, tag_observations in enumerate(batch_tag_observations):\n",
    "        grouped_tags = groupby_slices(tag_observations)\n",
    "        constraints.append(\n",
    "            [(start, end, [tag]) for start, end, tag in grouped_tags if tag != -1]\n",
    "        )\n",
    "    return constraints"
   ]
  },
  {
   "cell_type": "code",
   "execution_count": 9,
   "id": "24f80f1d",
   "metadata": {},
   "outputs": [],
   "source": [
    "def get_mask_for_scores_by_hand(\n",
    "    scores_by_hand: pd.DataFrame, constraints: List[List[tuple]]\n",
    "):\n",
    "    if constraints is None:\n",
    "        return pd.Series(True, index=scores_by_hand.index)\n",
    "\n",
    "    def row_satisfies_constraint(row):\n",
    "        example_index = row[\"example_index\"]\n",
    "        constraints_for_element = constraints[example_index]\n",
    "        tag_sequence = row[\"tag_sequence\"]\n",
    "        return all(\n",
    "            tag_sequence[i] in tags\n",
    "            for start, stop, tags in constraints_for_element\n",
    "            for i in range(start, stop)\n",
    "        )\n",
    "\n",
    "    return scores_by_hand.apply(row_satisfies_constraint, axis=1)"
   ]
  },
  {
   "cell_type": "code",
   "execution_count": 10,
   "id": "c6f56eb4",
   "metadata": {},
   "outputs": [],
   "source": [
    "def compute_log_partition_by_hand(scores_by_hand, constraints=None):\n",
    "    mask_for_constraints = get_mask_for_scores_by_hand(scores_by_hand, constraints)\n",
    "    scores_for_constrained_sequences = scores_by_hand.loc[mask_for_constraints]\n",
    "\n",
    "    def log_partition_for_group(group):\n",
    "        return torch.logsumexp(\n",
    "            torch.tensor(group[\"score\"].values, dtype=torch.float), dim=0\n",
    "        )\n",
    "\n",
    "    return scores_for_constrained_sequences.groupby(\"example_index\").apply(\n",
    "        log_partition_for_group\n",
    "    )"
   ]
  },
  {
   "cell_type": "code",
   "execution_count": 11,
   "id": "90260bf9",
   "metadata": {},
   "outputs": [],
   "source": [
    "def compute_marginal_by_hand(\n",
    "    scores_by_hand,\n",
    "    log_partition_by_hand,\n",
    "    position,\n",
    "    tag,\n",
    "    example_index,\n",
    "    constraints=None,\n",
    "):\n",
    "    mask_for_constraints = get_mask_for_scores_by_hand(scores_by_hand, constraints)\n",
    "    scores_for_constrained_sequences = scores_by_hand.loc[mask_for_constraints]\n",
    "    scores_for_example = scores_for_constrained_sequences.query(\n",
    "        \"example_index == @example_index\"\n",
    "    )\n",
    "    mask_for_sequences_with_correct_tag = np.array(\n",
    "        [seq[position] == tag for seq in scores_for_example[\"tag_sequence\"]]\n",
    "    )\n",
    "    scores_for_sequences_with_correct_tag = torch.tensor(\n",
    "        scores_for_example.loc[mask_for_sequences_with_correct_tag][\"score\"].values,\n",
    "        dtype=torch.float,\n",
    "    )\n",
    "    return (\n",
    "        torch.logsumexp(scores_for_sequences_with_correct_tag, dim=0)\n",
    "        - log_partition_by_hand[example_index]\n",
    "    )"
   ]
  },
  {
   "cell_type": "markdown",
   "id": "b55cec35",
   "metadata": {},
   "source": [
    "### Set up our specific example"
   ]
  },
  {
   "cell_type": "markdown",
   "id": "fd1bcc72",
   "metadata": {},
   "source": [
    "It will have 2 actual tags (1, 2 with 0 for pad). For now, we'll only have one sequence in the batch with length 4."
   ]
  },
  {
   "cell_type": "code",
   "execution_count": 12,
   "id": "7dfdd977",
   "metadata": {},
   "outputs": [],
   "source": [
    "num_tags = 3"
   ]
  },
  {
   "cell_type": "code",
   "execution_count": 13,
   "id": "896c8e18",
   "metadata": {},
   "outputs": [],
   "source": [
    "# The tags we have observed for the current batch. -1 means we haven't observed anything\n",
    "batch_tag_observations = [[-1, -1, -1, -1], [-1, -1], [-1]]\n",
    "lengths = torch.LongTensor([len(obs) for obs in batch_tag_observations])\n",
    "max_sequence_length = lengths.max()\n",
    "batch_size = len(batch_tag_observations)"
   ]
  },
  {
   "cell_type": "code",
   "execution_count": 14,
   "id": "dfc3e620",
   "metadata": {},
   "outputs": [
    {
     "data": {
      "text/plain": [
       "tensor([[ True,  True,  True,  True],\n",
       "        [ True,  True, False, False],\n",
       "        [ True, False, False, False]])"
      ]
     },
     "execution_count": 14,
     "metadata": {},
     "output_type": "execute_result"
    }
   ],
   "source": [
    "length_mask = util.get_mask_from_sequence_lengths(lengths, max_sequence_length)\n",
    "length_mask"
   ]
  },
  {
   "cell_type": "code",
   "execution_count": 15,
   "id": "7aa97bec-32d6-4a63-8b3f-697fd7beade7",
   "metadata": {},
   "outputs": [
    {
     "data": {
      "text/plain": [
       "tensor([[[ True,  True,  True],\n",
       "         [ True,  True,  True],\n",
       "         [ True,  True,  True],\n",
       "         [ True,  True,  True]],\n",
       "\n",
       "        [[ True,  True,  True],\n",
       "         [ True,  True,  True],\n",
       "         [False, False, False],\n",
       "         [False, False, False]],\n",
       "\n",
       "        [[ True,  True,  True],\n",
       "         [False, False, False],\n",
       "         [False, False, False],\n",
       "         [False, False, False]]])"
      ]
     },
     "execution_count": 15,
     "metadata": {},
     "output_type": "execute_result"
    }
   ],
   "source": [
    "mask = util.get_mask_for_tags(\n",
    "    length_mask, num_tags, convert_constraints(batch_tag_observations)\n",
    ")\n",
    "mask"
   ]
  },
  {
   "cell_type": "markdown",
   "id": "3f3a5913",
   "metadata": {},
   "source": [
    "#### Specify some particular log emissions:"
   ]
  },
  {
   "cell_type": "code",
   "execution_count": 16,
   "id": "06e8c96f",
   "metadata": {},
   "outputs": [
    {
     "data": {
      "text/plain": [
       "tensor([[[ 1.0000e+00,  2.0000e+00,  3.0000e+00],\n",
       "         [ 5.0000e+00,  6.0000e+00,  7.0000e+00],\n",
       "         [ 1.2000e+01,  1.1000e+01,  1.0000e+01],\n",
       "         [-1.0000e+00, -2.0000e+00,  0.0000e+00]],\n",
       "\n",
       "        [[ 1.0000e+00,  4.0000e+00,  9.0000e+00],\n",
       "         [ 5.0000e+00,  1.0000e+00,  5.0000e+00],\n",
       "         [ 1.2000e+01,  1.2100e+02,  1.4000e+02],\n",
       "         [-1.0000e+00, -2.0000e+02,  0.0000e+00]],\n",
       "\n",
       "        [[ 1.0000e+00,  1.5000e+01,  2.3000e+01],\n",
       "         [ 5.0000e+03,  3.2110e+03,  2.1230e+03],\n",
       "         [ 1.2000e+01,  1.2100e+02,  1.4000e+02],\n",
       "         [-1.0000e+00, -2.0000e+02,  0.0000e+00]]])"
      ]
     },
     "execution_count": 16,
     "metadata": {},
     "output_type": "execute_result"
    }
   ],
   "source": [
    "# emissions are batch_size x max_sequence_length x num_tags\n",
    "log_emissions = torch.Tensor(\n",
    "    [\n",
    "        [[1, 2, 3], [5, 6, 7], [12, 11, 10], [-1, -2, 0]],\n",
    "        [\n",
    "            [1, 4, 9],\n",
    "            [5, 1, 5],\n",
    "            [12, 121, 140],  # don't care, length is 2\n",
    "            [-1, -200, 0],  # don't care, lenght is 2\n",
    "        ],\n",
    "        [\n",
    "            [1, 15, 23],\n",
    "            [5000, 3211, 2123],  # don't care, lenght is 1\n",
    "            [12, 121, 140],  # don't care, length is 1\n",
    "            [-1, -200, 0],  # don't care, lenght is 1\n",
    "        ],\n",
    "    ]\n",
    ")\n",
    "log_emissions"
   ]
  },
  {
   "cell_type": "code",
   "execution_count": 17,
   "id": "af27b8c4",
   "metadata": {},
   "outputs": [],
   "source": [
    "crf_head = CrfHead(num_tags=num_tags, include_start_end_transitions=False)"
   ]
  },
  {
   "cell_type": "markdown",
   "id": "8637ac6b",
   "metadata": {},
   "source": [
    "#### Specify some particular log-transitions:"
   ]
  },
  {
   "cell_type": "code",
   "execution_count": 18,
   "id": "3219cbea",
   "metadata": {},
   "outputs": [
    {
     "data": {
      "text/plain": [
       "Parameter containing:\n",
       "tensor([[-1.0000e+04, -1.0000e+04, -1.0000e+04],\n",
       "        [-1.0000e+04,  5.0000e+00,  2.0000e+00],\n",
       "        [-1.0000e+04,  4.0000e+00,  3.0000e+00]], requires_grad=True)"
      ]
     },
     "execution_count": 18,
     "metadata": {},
     "output_type": "execute_result"
    }
   ],
   "source": [
    "crf_head.log_transitions.requires_grad_(\n",
    "    False\n",
    ")  # disable grad to set desired transitions\n",
    "crf_head.log_transitions.data = torch.tensor(\n",
    "    [[-1e4, -1e4, -1e4], [-1e4, 5, 2], [-1e4, 4, 3]]\n",
    ")\n",
    "crf_head.log_transitions.requires_grad_()  # and now reenable it\n",
    "crf_head.log_transitions"
   ]
  },
  {
   "cell_type": "code",
   "execution_count": 19,
   "id": "5afe174e",
   "metadata": {},
   "outputs": [],
   "source": [
    "crf_head.log_emissions_scaling.data = torch.tensor(11.3)\n",
    "log_emissions = log_emissions * torch.exp(-crf_head.log_emissions_scaling)"
   ]
  },
  {
   "cell_type": "markdown",
   "id": "0328d53b",
   "metadata": {},
   "source": [
    "#### With these emissions and transitions, we can compute the scores for each sequence by hand:"
   ]
  },
  {
   "cell_type": "code",
   "execution_count": 20,
   "id": "90a25be0",
   "metadata": {},
   "outputs": [
    {
     "data": {
      "text/html": [
       "<div>\n",
       "<style scoped>\n",
       "    .dataframe tbody tr th:only-of-type {\n",
       "        vertical-align: middle;\n",
       "    }\n",
       "\n",
       "    .dataframe tbody tr th {\n",
       "        vertical-align: top;\n",
       "    }\n",
       "\n",
       "    .dataframe thead th {\n",
       "        text-align: right;\n",
       "    }\n",
       "</style>\n",
       "<table border=\"1\" class=\"dataframe\">\n",
       "  <thead>\n",
       "    <tr style=\"text-align: right;\">\n",
       "      <th></th>\n",
       "      <th>tag_sequence</th>\n",
       "      <th>score</th>\n",
       "      <th>length</th>\n",
       "      <th>example_index</th>\n",
       "    </tr>\n",
       "  </thead>\n",
       "  <tbody>\n",
       "    <tr>\n",
       "      <th>0</th>\n",
       "      <td>[1, 1, 1, 2]</td>\n",
       "      <td>33</td>\n",
       "      <td>4</td>\n",
       "      <td>0</td>\n",
       "    </tr>\n",
       "    <tr>\n",
       "      <th>1</th>\n",
       "      <td>[1, 1, 1, 1]</td>\n",
       "      <td>32</td>\n",
       "      <td>4</td>\n",
       "      <td>0</td>\n",
       "    </tr>\n",
       "    <tr>\n",
       "      <th>2</th>\n",
       "      <td>[2, 1, 1, 2]</td>\n",
       "      <td>31</td>\n",
       "      <td>4</td>\n",
       "      <td>0</td>\n",
       "    </tr>\n",
       "    <tr>\n",
       "      <th>3</th>\n",
       "      <td>[1, 1, 2, 2]</td>\n",
       "      <td>30</td>\n",
       "      <td>4</td>\n",
       "      <td>0</td>\n",
       "    </tr>\n",
       "    <tr>\n",
       "      <th>4</th>\n",
       "      <td>[1, 2, 1, 2]</td>\n",
       "      <td>30</td>\n",
       "      <td>4</td>\n",
       "      <td>0</td>\n",
       "    </tr>\n",
       "    <tr>\n",
       "      <th>5</th>\n",
       "      <td>[2, 2, 1, 2]</td>\n",
       "      <td>30</td>\n",
       "      <td>4</td>\n",
       "      <td>0</td>\n",
       "    </tr>\n",
       "    <tr>\n",
       "      <th>6</th>\n",
       "      <td>[2, 1, 1, 1]</td>\n",
       "      <td>30</td>\n",
       "      <td>4</td>\n",
       "      <td>0</td>\n",
       "    </tr>\n",
       "    <tr>\n",
       "      <th>7</th>\n",
       "      <td>[2, 2, 2, 2]</td>\n",
       "      <td>29</td>\n",
       "      <td>4</td>\n",
       "      <td>0</td>\n",
       "    </tr>\n",
       "    <tr>\n",
       "      <th>8</th>\n",
       "      <td>[1, 2, 1, 1]</td>\n",
       "      <td>29</td>\n",
       "      <td>4</td>\n",
       "      <td>0</td>\n",
       "    </tr>\n",
       "    <tr>\n",
       "      <th>9</th>\n",
       "      <td>[1, 2, 2, 2]</td>\n",
       "      <td>29</td>\n",
       "      <td>4</td>\n",
       "      <td>0</td>\n",
       "    </tr>\n",
       "    <tr>\n",
       "      <th>10</th>\n",
       "      <td>[2, 2, 1, 1]</td>\n",
       "      <td>29</td>\n",
       "      <td>4</td>\n",
       "      <td>0</td>\n",
       "    </tr>\n",
       "    <tr>\n",
       "      <th>11</th>\n",
       "      <td>[2, 1, 2, 2]</td>\n",
       "      <td>28</td>\n",
       "      <td>4</td>\n",
       "      <td>0</td>\n",
       "    </tr>\n",
       "    <tr>\n",
       "      <th>12</th>\n",
       "      <td>[1, 1, 2, 1]</td>\n",
       "      <td>27</td>\n",
       "      <td>4</td>\n",
       "      <td>0</td>\n",
       "    </tr>\n",
       "    <tr>\n",
       "      <th>13</th>\n",
       "      <td>[1, 2, 2, 1]</td>\n",
       "      <td>26</td>\n",
       "      <td>4</td>\n",
       "      <td>0</td>\n",
       "    </tr>\n",
       "    <tr>\n",
       "      <th>14</th>\n",
       "      <td>[2, 2, 2, 1]</td>\n",
       "      <td>26</td>\n",
       "      <td>4</td>\n",
       "      <td>0</td>\n",
       "    </tr>\n",
       "    <tr>\n",
       "      <th>15</th>\n",
       "      <td>[2, 1, 2, 1]</td>\n",
       "      <td>25</td>\n",
       "      <td>4</td>\n",
       "      <td>0</td>\n",
       "    </tr>\n",
       "    <tr>\n",
       "      <th>16</th>\n",
       "      <td>[2, 2]</td>\n",
       "      <td>17</td>\n",
       "      <td>2</td>\n",
       "      <td>1</td>\n",
       "    </tr>\n",
       "    <tr>\n",
       "      <th>17</th>\n",
       "      <td>[1, 2]</td>\n",
       "      <td>13</td>\n",
       "      <td>2</td>\n",
       "      <td>1</td>\n",
       "    </tr>\n",
       "    <tr>\n",
       "      <th>18</th>\n",
       "      <td>[2, 1]</td>\n",
       "      <td>12</td>\n",
       "      <td>2</td>\n",
       "      <td>1</td>\n",
       "    </tr>\n",
       "    <tr>\n",
       "      <th>19</th>\n",
       "      <td>[1, 1]</td>\n",
       "      <td>10</td>\n",
       "      <td>2</td>\n",
       "      <td>1</td>\n",
       "    </tr>\n",
       "    <tr>\n",
       "      <th>20</th>\n",
       "      <td>[2]</td>\n",
       "      <td>23</td>\n",
       "      <td>1</td>\n",
       "      <td>2</td>\n",
       "    </tr>\n",
       "    <tr>\n",
       "      <th>21</th>\n",
       "      <td>[1]</td>\n",
       "      <td>15</td>\n",
       "      <td>1</td>\n",
       "      <td>2</td>\n",
       "    </tr>\n",
       "  </tbody>\n",
       "</table>\n",
       "</div>"
      ],
      "text/plain": [
       "    tag_sequence  score  length  example_index\n",
       "0   [1, 1, 1, 2]     33       4              0\n",
       "1   [1, 1, 1, 1]     32       4              0\n",
       "2   [2, 1, 1, 2]     31       4              0\n",
       "3   [1, 1, 2, 2]     30       4              0\n",
       "4   [1, 2, 1, 2]     30       4              0\n",
       "5   [2, 2, 1, 2]     30       4              0\n",
       "6   [2, 1, 1, 1]     30       4              0\n",
       "7   [2, 2, 2, 2]     29       4              0\n",
       "8   [1, 2, 1, 1]     29       4              0\n",
       "9   [1, 2, 2, 2]     29       4              0\n",
       "10  [2, 2, 1, 1]     29       4              0\n",
       "11  [2, 1, 2, 2]     28       4              0\n",
       "12  [1, 1, 2, 1]     27       4              0\n",
       "13  [1, 2, 2, 1]     26       4              0\n",
       "14  [2, 2, 2, 1]     26       4              0\n",
       "15  [2, 1, 2, 1]     25       4              0\n",
       "16        [2, 2]     17       2              1\n",
       "17        [1, 2]     13       2              1\n",
       "18        [2, 1]     12       2              1\n",
       "19        [1, 1]     10       2              1\n",
       "20           [2]     23       1              2\n",
       "21           [1]     15       1              2"
      ]
     },
     "execution_count": 20,
     "metadata": {},
     "output_type": "execute_result"
    }
   ],
   "source": [
    "import pandas as pd\n",
    "\n",
    "expected_scores = pd.Series(\n",
    "    {\n",
    "        # first example of length 4\n",
    "        \"1111\": 32,\n",
    "        \"1112\": 33,\n",
    "        \"1121\": 27,\n",
    "        \"1122\": 30,\n",
    "        \"1211\": 29,\n",
    "        \"1212\": 30,\n",
    "        \"1221\": 26,\n",
    "        \"1222\": 29,\n",
    "        \"2111\": 30,\n",
    "        \"2112\": 31,\n",
    "        \"2121\": 25,\n",
    "        \"2122\": 28,\n",
    "        \"2211\": 29,\n",
    "        \"2212\": 30,\n",
    "        \"2221\": 26,\n",
    "        \"2222\": 29,\n",
    "        # second example of length 2\n",
    "        \"11\": 10,\n",
    "        \"12\": 13,\n",
    "        \"21\": 12,\n",
    "        \"22\": 17,\n",
    "        # third example of length 1\n",
    "        \"1\": 15,\n",
    "        \"2\": 23,\n",
    "    }\n",
    ").sort_values(ascending=False)\n",
    "\n",
    "expected_scores.name = \"score\"\n",
    "expected_scores = (\n",
    "    expected_scores.reset_index()\n",
    "    .rename(columns={\"index\": \"tag_sequence\"})\n",
    "    .apply(\n",
    "        lambda row: pd.Series(\n",
    "            {\"tag_sequence\": [int(tag) for tag in row.tag_sequence], \"score\": row.score}\n",
    "        ),\n",
    "        axis=1,\n",
    "    )\n",
    ")\n",
    "expected_scores[\"length\"] = expected_scores.apply(\n",
    "    lambda row: len(row[\"tag_sequence\"]), axis=1\n",
    ")\n",
    "expected_scores = expected_scores.sort_values(\n",
    "    [\"length\", \"score\"], ascending=[False, False], ignore_index=True\n",
    ")\n",
    "\n",
    "expected_scores[\"example_index\"] = sum(\n",
    "    [[i] * ((num_tags - 1) ** lengths[i]) for i in range(batch_size)], []\n",
    ")\n",
    "expected_scores"
   ]
  },
  {
   "cell_type": "code",
   "execution_count": 21,
   "id": "de4006bd",
   "metadata": {},
   "outputs": [
    {
     "data": {
      "text/html": [
       "<div>\n",
       "<style scoped>\n",
       "    .dataframe tbody tr th:only-of-type {\n",
       "        vertical-align: middle;\n",
       "    }\n",
       "\n",
       "    .dataframe tbody tr th {\n",
       "        vertical-align: top;\n",
       "    }\n",
       "\n",
       "    .dataframe thead th {\n",
       "        text-align: right;\n",
       "    }\n",
       "</style>\n",
       "<table border=\"1\" class=\"dataframe\">\n",
       "  <thead>\n",
       "    <tr style=\"text-align: right;\">\n",
       "      <th></th>\n",
       "      <th>tag_sequence</th>\n",
       "      <th>score</th>\n",
       "      <th>length</th>\n",
       "      <th>example_index</th>\n",
       "    </tr>\n",
       "  </thead>\n",
       "  <tbody>\n",
       "    <tr>\n",
       "      <th>3</th>\n",
       "      <td>[1, 1, 2, 2]</td>\n",
       "      <td>30</td>\n",
       "      <td>4</td>\n",
       "      <td>0</td>\n",
       "    </tr>\n",
       "    <tr>\n",
       "      <th>7</th>\n",
       "      <td>[2, 2, 2, 2]</td>\n",
       "      <td>29</td>\n",
       "      <td>4</td>\n",
       "      <td>0</td>\n",
       "    </tr>\n",
       "    <tr>\n",
       "      <th>9</th>\n",
       "      <td>[1, 2, 2, 2]</td>\n",
       "      <td>29</td>\n",
       "      <td>4</td>\n",
       "      <td>0</td>\n",
       "    </tr>\n",
       "    <tr>\n",
       "      <th>11</th>\n",
       "      <td>[2, 1, 2, 2]</td>\n",
       "      <td>28</td>\n",
       "      <td>4</td>\n",
       "      <td>0</td>\n",
       "    </tr>\n",
       "    <tr>\n",
       "      <th>12</th>\n",
       "      <td>[1, 1, 2, 1]</td>\n",
       "      <td>27</td>\n",
       "      <td>4</td>\n",
       "      <td>0</td>\n",
       "    </tr>\n",
       "    <tr>\n",
       "      <th>13</th>\n",
       "      <td>[1, 2, 2, 1]</td>\n",
       "      <td>26</td>\n",
       "      <td>4</td>\n",
       "      <td>0</td>\n",
       "    </tr>\n",
       "    <tr>\n",
       "      <th>14</th>\n",
       "      <td>[2, 2, 2, 1]</td>\n",
       "      <td>26</td>\n",
       "      <td>4</td>\n",
       "      <td>0</td>\n",
       "    </tr>\n",
       "    <tr>\n",
       "      <th>15</th>\n",
       "      <td>[2, 1, 2, 1]</td>\n",
       "      <td>25</td>\n",
       "      <td>4</td>\n",
       "      <td>0</td>\n",
       "    </tr>\n",
       "  </tbody>\n",
       "</table>\n",
       "</div>"
      ],
      "text/plain": [
       "    tag_sequence  score  length  example_index\n",
       "3   [1, 1, 2, 2]     30       4              0\n",
       "7   [2, 2, 2, 2]     29       4              0\n",
       "9   [1, 2, 2, 2]     29       4              0\n",
       "11  [2, 1, 2, 2]     28       4              0\n",
       "12  [1, 1, 2, 1]     27       4              0\n",
       "13  [1, 2, 2, 1]     26       4              0\n",
       "14  [2, 2, 2, 1]     26       4              0\n",
       "15  [2, 1, 2, 1]     25       4              0"
      ]
     },
     "execution_count": 21,
     "metadata": {},
     "output_type": "execute_result"
    }
   ],
   "source": [
    "expected_scores.loc[\n",
    "    np.array(myget(seq, 2, -1) == 2 for seq in expected_scores[\"tag_sequence\"])\n",
    "].sort_values(\"score\", ascending=False)"
   ]
  },
  {
   "cell_type": "markdown",
   "id": "5b028d83",
   "metadata": {},
   "source": [
    "## Begin testing"
   ]
  },
  {
   "cell_type": "code",
   "execution_count": 22,
   "id": "1535c066",
   "metadata": {},
   "outputs": [
    {
     "data": {
      "text/plain": [
       "<torch._C.Generator at 0x142e49ab0>"
      ]
     },
     "execution_count": 22,
     "metadata": {},
     "output_type": "execute_result"
    }
   ],
   "source": [
    "torch.set_grad_enabled(False)\n",
    "torch.manual_seed(1)"
   ]
  },
  {
   "cell_type": "markdown",
   "id": "89d98b14",
   "metadata": {},
   "source": [
    "### Test that scores are computed correctly:"
   ]
  },
  {
   "cell_type": "code",
   "execution_count": 23,
   "id": "b91152de",
   "metadata": {},
   "outputs": [],
   "source": [
    "for _, row in expected_scores.iterrows():\n",
    "    predicted_score = crf_head.forward(\n",
    "        log_emissions[row.example_index : row.example_index + 1, : row.length],\n",
    "        lengths=lengths[row.example_index : row.example_index + 1],\n",
    "        tags=torch.tensor([[int(i) for i in row.tag_sequence]]),\n",
    "    )[\"logits\"].item()\n",
    "    assert row.score == predicted_score"
   ]
  },
  {
   "cell_type": "code",
   "execution_count": 83,
   "id": "15f8635b",
   "metadata": {},
   "outputs": [],
   "source": [
    "all_emissions = torch.stack(\n",
    "    [log_emissions[0]] * 16 + [log_emissions[1]] * 4 + [log_emissions[2]] * 2\n",
    ")"
   ]
  },
  {
   "cell_type": "code",
   "execution_count": 84,
   "id": "7bcc5583",
   "metadata": {},
   "outputs": [],
   "source": [
    "tags1 = torch.stack(\n",
    "    [torch.tensor(t) for t in expected_scores[\"tag_sequence\"][:16].values]\n",
    ")"
   ]
  },
  {
   "cell_type": "code",
   "execution_count": 85,
   "id": "36017a0a",
   "metadata": {},
   "outputs": [],
   "source": [
    "tags2 = torch.stack(\n",
    "    [torch.tensor(t + [0, 0]) for t in expected_scores[\"tag_sequence\"][16:20].values]\n",
    ")"
   ]
  },
  {
   "cell_type": "code",
   "execution_count": 86,
   "id": "efaff0e6",
   "metadata": {},
   "outputs": [],
   "source": [
    "tags3 = torch.stack(\n",
    "    [torch.tensor(t + [0, 0, 0]) for t in expected_scores[\"tag_sequence\"][20:].values]\n",
    ")"
   ]
  },
  {
   "cell_type": "code",
   "execution_count": 87,
   "id": "b02cb99c",
   "metadata": {},
   "outputs": [
    {
     "data": {
      "text/plain": [
       "tensor([[1, 1, 1, 2],\n",
       "        [1, 1, 1, 1],\n",
       "        [2, 1, 1, 2],\n",
       "        [1, 1, 2, 2],\n",
       "        [1, 2, 1, 2],\n",
       "        [2, 2, 1, 2],\n",
       "        [2, 1, 1, 1],\n",
       "        [2, 2, 2, 2],\n",
       "        [1, 2, 1, 1],\n",
       "        [1, 2, 2, 2],\n",
       "        [2, 2, 1, 1],\n",
       "        [2, 1, 2, 2],\n",
       "        [1, 1, 2, 1],\n",
       "        [1, 2, 2, 1],\n",
       "        [2, 2, 2, 1],\n",
       "        [2, 1, 2, 1],\n",
       "        [2, 2, 0, 0],\n",
       "        [1, 2, 0, 0],\n",
       "        [2, 1, 0, 0],\n",
       "        [1, 1, 0, 0],\n",
       "        [2, 0, 0, 0],\n",
       "        [1, 0, 0, 0]])"
      ]
     },
     "execution_count": 87,
     "metadata": {},
     "output_type": "execute_result"
    }
   ],
   "source": [
    "all_tags = torch.vstack([tags1, tags2, tags3])\n",
    "all_tags"
   ]
  },
  {
   "cell_type": "code",
   "execution_count": 88,
   "id": "f671a06a",
   "metadata": {},
   "outputs": [],
   "source": [
    "predicted_score = crf_head.forward(\n",
    "    all_emissions, lengths=torch.LongTensor([4] * 16 + [2] * 4 + [1] * 2), tags=all_tags\n",
    ")[\"logits\"]"
   ]
  },
  {
   "cell_type": "code",
   "execution_count": 89,
   "id": "6ae530a8",
   "metadata": {},
   "outputs": [
    {
     "data": {
      "text/plain": [
       "tensor([33., 32., 31., 30., 30., 30., 30., 29., 29., 29., 29., 28., 27., 26.,\n",
       "        26., 25., 17., 13., 12., 10., 23., 15.])"
      ]
     },
     "execution_count": 89,
     "metadata": {},
     "output_type": "execute_result"
    }
   ],
   "source": [
    "predicted_score"
   ]
  },
  {
   "cell_type": "code",
   "execution_count": 31,
   "id": "2e1eb178",
   "metadata": {},
   "outputs": [
    {
     "data": {
      "text/html": [
       "<div>\n",
       "<style scoped>\n",
       "    .dataframe tbody tr th:only-of-type {\n",
       "        vertical-align: middle;\n",
       "    }\n",
       "\n",
       "    .dataframe tbody tr th {\n",
       "        vertical-align: top;\n",
       "    }\n",
       "\n",
       "    .dataframe thead th {\n",
       "        text-align: right;\n",
       "    }\n",
       "</style>\n",
       "<table border=\"1\" class=\"dataframe\">\n",
       "  <thead>\n",
       "    <tr style=\"text-align: right;\">\n",
       "      <th></th>\n",
       "      <th>tag_sequence</th>\n",
       "      <th>score</th>\n",
       "      <th>length</th>\n",
       "      <th>example_index</th>\n",
       "    </tr>\n",
       "  </thead>\n",
       "  <tbody>\n",
       "    <tr>\n",
       "      <th>0</th>\n",
       "      <td>[1, 1, 1, 2]</td>\n",
       "      <td>33</td>\n",
       "      <td>4</td>\n",
       "      <td>0</td>\n",
       "    </tr>\n",
       "    <tr>\n",
       "      <th>1</th>\n",
       "      <td>[1, 1, 1, 1]</td>\n",
       "      <td>32</td>\n",
       "      <td>4</td>\n",
       "      <td>0</td>\n",
       "    </tr>\n",
       "    <tr>\n",
       "      <th>2</th>\n",
       "      <td>[2, 1, 1, 2]</td>\n",
       "      <td>31</td>\n",
       "      <td>4</td>\n",
       "      <td>0</td>\n",
       "    </tr>\n",
       "    <tr>\n",
       "      <th>3</th>\n",
       "      <td>[1, 1, 2, 2]</td>\n",
       "      <td>30</td>\n",
       "      <td>4</td>\n",
       "      <td>0</td>\n",
       "    </tr>\n",
       "    <tr>\n",
       "      <th>4</th>\n",
       "      <td>[1, 2, 1, 2]</td>\n",
       "      <td>30</td>\n",
       "      <td>4</td>\n",
       "      <td>0</td>\n",
       "    </tr>\n",
       "    <tr>\n",
       "      <th>5</th>\n",
       "      <td>[2, 2, 1, 2]</td>\n",
       "      <td>30</td>\n",
       "      <td>4</td>\n",
       "      <td>0</td>\n",
       "    </tr>\n",
       "    <tr>\n",
       "      <th>6</th>\n",
       "      <td>[2, 1, 1, 1]</td>\n",
       "      <td>30</td>\n",
       "      <td>4</td>\n",
       "      <td>0</td>\n",
       "    </tr>\n",
       "    <tr>\n",
       "      <th>7</th>\n",
       "      <td>[2, 2, 2, 2]</td>\n",
       "      <td>29</td>\n",
       "      <td>4</td>\n",
       "      <td>0</td>\n",
       "    </tr>\n",
       "    <tr>\n",
       "      <th>8</th>\n",
       "      <td>[1, 2, 1, 1]</td>\n",
       "      <td>29</td>\n",
       "      <td>4</td>\n",
       "      <td>0</td>\n",
       "    </tr>\n",
       "    <tr>\n",
       "      <th>9</th>\n",
       "      <td>[1, 2, 2, 2]</td>\n",
       "      <td>29</td>\n",
       "      <td>4</td>\n",
       "      <td>0</td>\n",
       "    </tr>\n",
       "    <tr>\n",
       "      <th>10</th>\n",
       "      <td>[2, 2, 1, 1]</td>\n",
       "      <td>29</td>\n",
       "      <td>4</td>\n",
       "      <td>0</td>\n",
       "    </tr>\n",
       "    <tr>\n",
       "      <th>11</th>\n",
       "      <td>[2, 1, 2, 2]</td>\n",
       "      <td>28</td>\n",
       "      <td>4</td>\n",
       "      <td>0</td>\n",
       "    </tr>\n",
       "    <tr>\n",
       "      <th>12</th>\n",
       "      <td>[1, 1, 2, 1]</td>\n",
       "      <td>27</td>\n",
       "      <td>4</td>\n",
       "      <td>0</td>\n",
       "    </tr>\n",
       "    <tr>\n",
       "      <th>13</th>\n",
       "      <td>[1, 2, 2, 1]</td>\n",
       "      <td>26</td>\n",
       "      <td>4</td>\n",
       "      <td>0</td>\n",
       "    </tr>\n",
       "    <tr>\n",
       "      <th>14</th>\n",
       "      <td>[2, 2, 2, 1]</td>\n",
       "      <td>26</td>\n",
       "      <td>4</td>\n",
       "      <td>0</td>\n",
       "    </tr>\n",
       "    <tr>\n",
       "      <th>15</th>\n",
       "      <td>[2, 1, 2, 1]</td>\n",
       "      <td>25</td>\n",
       "      <td>4</td>\n",
       "      <td>0</td>\n",
       "    </tr>\n",
       "    <tr>\n",
       "      <th>16</th>\n",
       "      <td>[2, 2]</td>\n",
       "      <td>17</td>\n",
       "      <td>2</td>\n",
       "      <td>1</td>\n",
       "    </tr>\n",
       "    <tr>\n",
       "      <th>17</th>\n",
       "      <td>[1, 2]</td>\n",
       "      <td>13</td>\n",
       "      <td>2</td>\n",
       "      <td>1</td>\n",
       "    </tr>\n",
       "    <tr>\n",
       "      <th>18</th>\n",
       "      <td>[2, 1]</td>\n",
       "      <td>12</td>\n",
       "      <td>2</td>\n",
       "      <td>1</td>\n",
       "    </tr>\n",
       "    <tr>\n",
       "      <th>19</th>\n",
       "      <td>[1, 1]</td>\n",
       "      <td>10</td>\n",
       "      <td>2</td>\n",
       "      <td>1</td>\n",
       "    </tr>\n",
       "    <tr>\n",
       "      <th>20</th>\n",
       "      <td>[2]</td>\n",
       "      <td>23</td>\n",
       "      <td>1</td>\n",
       "      <td>2</td>\n",
       "    </tr>\n",
       "    <tr>\n",
       "      <th>21</th>\n",
       "      <td>[1]</td>\n",
       "      <td>15</td>\n",
       "      <td>1</td>\n",
       "      <td>2</td>\n",
       "    </tr>\n",
       "  </tbody>\n",
       "</table>\n",
       "</div>"
      ],
      "text/plain": [
       "    tag_sequence  score  length  example_index\n",
       "0   [1, 1, 1, 2]     33       4              0\n",
       "1   [1, 1, 1, 1]     32       4              0\n",
       "2   [2, 1, 1, 2]     31       4              0\n",
       "3   [1, 1, 2, 2]     30       4              0\n",
       "4   [1, 2, 1, 2]     30       4              0\n",
       "5   [2, 2, 1, 2]     30       4              0\n",
       "6   [2, 1, 1, 1]     30       4              0\n",
       "7   [2, 2, 2, 2]     29       4              0\n",
       "8   [1, 2, 1, 1]     29       4              0\n",
       "9   [1, 2, 2, 2]     29       4              0\n",
       "10  [2, 2, 1, 1]     29       4              0\n",
       "11  [2, 1, 2, 2]     28       4              0\n",
       "12  [1, 1, 2, 1]     27       4              0\n",
       "13  [1, 2, 2, 1]     26       4              0\n",
       "14  [2, 2, 2, 1]     26       4              0\n",
       "15  [2, 1, 2, 1]     25       4              0\n",
       "16        [2, 2]     17       2              1\n",
       "17        [1, 2]     13       2              1\n",
       "18        [2, 1]     12       2              1\n",
       "19        [1, 1]     10       2              1\n",
       "20           [2]     23       1              2\n",
       "21           [1]     15       1              2"
      ]
     },
     "execution_count": 31,
     "metadata": {},
     "output_type": "execute_result"
    }
   ],
   "source": [
    "expected_scores"
   ]
  },
  {
   "cell_type": "code",
   "execution_count": 32,
   "id": "48da1895",
   "metadata": {},
   "outputs": [],
   "source": [
    "assert torch.allclose(\n",
    "    predicted_score, torch.tensor(expected_scores[\"score\"], dtype=torch.float)\n",
    ")"
   ]
  },
  {
   "cell_type": "markdown",
   "id": "b3e2425a",
   "metadata": {},
   "source": [
    "### Test Viterbi"
   ]
  },
  {
   "cell_type": "code",
   "execution_count": 33,
   "id": "951e5b1e",
   "metadata": {},
   "outputs": [],
   "source": [
    "top_k = 10"
   ]
  },
  {
   "cell_type": "code",
   "execution_count": 34,
   "id": "8a31dc07",
   "metadata": {},
   "outputs": [
    {
     "name": "stdout",
     "output_type": "stream",
     "text": [
      "208 µs ± 6.23 µs per loop (mean ± std. dev. of 7 runs, 1,000 loops each)\n"
     ]
    }
   ],
   "source": [
    "%%timeit\n",
    "crf_head.viterbi_algorithm(\n",
    "    log_emissions=log_emissions, lengths=lengths, mask=mask, top_k=top_k\n",
    ")"
   ]
  },
  {
   "cell_type": "code",
   "execution_count": 35,
   "id": "0d4d7265",
   "metadata": {},
   "outputs": [
    {
     "data": {
      "text/html": [
       "<div>\n",
       "<style scoped>\n",
       "    .dataframe tbody tr th:only-of-type {\n",
       "        vertical-align: middle;\n",
       "    }\n",
       "\n",
       "    .dataframe tbody tr th {\n",
       "        vertical-align: top;\n",
       "    }\n",
       "\n",
       "    .dataframe thead th {\n",
       "        text-align: right;\n",
       "    }\n",
       "</style>\n",
       "<table border=\"1\" class=\"dataframe\">\n",
       "  <thead>\n",
       "    <tr style=\"text-align: right;\">\n",
       "      <th></th>\n",
       "      <th>tag_sequence</th>\n",
       "      <th>score</th>\n",
       "      <th>length</th>\n",
       "      <th>example_index</th>\n",
       "    </tr>\n",
       "  </thead>\n",
       "  <tbody>\n",
       "    <tr>\n",
       "      <th>0</th>\n",
       "      <td>[1, 1, 1, 2]</td>\n",
       "      <td>33</td>\n",
       "      <td>4</td>\n",
       "      <td>0</td>\n",
       "    </tr>\n",
       "    <tr>\n",
       "      <th>1</th>\n",
       "      <td>[1, 1, 1, 1]</td>\n",
       "      <td>32</td>\n",
       "      <td>4</td>\n",
       "      <td>0</td>\n",
       "    </tr>\n",
       "    <tr>\n",
       "      <th>2</th>\n",
       "      <td>[2, 1, 1, 2]</td>\n",
       "      <td>31</td>\n",
       "      <td>4</td>\n",
       "      <td>0</td>\n",
       "    </tr>\n",
       "    <tr>\n",
       "      <th>3</th>\n",
       "      <td>[1, 1, 2, 2]</td>\n",
       "      <td>30</td>\n",
       "      <td>4</td>\n",
       "      <td>0</td>\n",
       "    </tr>\n",
       "    <tr>\n",
       "      <th>4</th>\n",
       "      <td>[1, 2, 1, 2]</td>\n",
       "      <td>30</td>\n",
       "      <td>4</td>\n",
       "      <td>0</td>\n",
       "    </tr>\n",
       "    <tr>\n",
       "      <th>5</th>\n",
       "      <td>[2, 2, 1, 2]</td>\n",
       "      <td>30</td>\n",
       "      <td>4</td>\n",
       "      <td>0</td>\n",
       "    </tr>\n",
       "    <tr>\n",
       "      <th>6</th>\n",
       "      <td>[2, 1, 1, 1]</td>\n",
       "      <td>30</td>\n",
       "      <td>4</td>\n",
       "      <td>0</td>\n",
       "    </tr>\n",
       "    <tr>\n",
       "      <th>7</th>\n",
       "      <td>[2, 2, 2, 2]</td>\n",
       "      <td>29</td>\n",
       "      <td>4</td>\n",
       "      <td>0</td>\n",
       "    </tr>\n",
       "    <tr>\n",
       "      <th>8</th>\n",
       "      <td>[1, 2, 1, 1]</td>\n",
       "      <td>29</td>\n",
       "      <td>4</td>\n",
       "      <td>0</td>\n",
       "    </tr>\n",
       "    <tr>\n",
       "      <th>9</th>\n",
       "      <td>[1, 2, 2, 2]</td>\n",
       "      <td>29</td>\n",
       "      <td>4</td>\n",
       "      <td>0</td>\n",
       "    </tr>\n",
       "    <tr>\n",
       "      <th>10</th>\n",
       "      <td>[2, 2, 1, 1]</td>\n",
       "      <td>29</td>\n",
       "      <td>4</td>\n",
       "      <td>0</td>\n",
       "    </tr>\n",
       "    <tr>\n",
       "      <th>11</th>\n",
       "      <td>[2, 1, 2, 2]</td>\n",
       "      <td>28</td>\n",
       "      <td>4</td>\n",
       "      <td>0</td>\n",
       "    </tr>\n",
       "    <tr>\n",
       "      <th>12</th>\n",
       "      <td>[1, 1, 2, 1]</td>\n",
       "      <td>27</td>\n",
       "      <td>4</td>\n",
       "      <td>0</td>\n",
       "    </tr>\n",
       "    <tr>\n",
       "      <th>13</th>\n",
       "      <td>[1, 2, 2, 1]</td>\n",
       "      <td>26</td>\n",
       "      <td>4</td>\n",
       "      <td>0</td>\n",
       "    </tr>\n",
       "    <tr>\n",
       "      <th>14</th>\n",
       "      <td>[2, 2, 2, 1]</td>\n",
       "      <td>26</td>\n",
       "      <td>4</td>\n",
       "      <td>0</td>\n",
       "    </tr>\n",
       "    <tr>\n",
       "      <th>15</th>\n",
       "      <td>[2, 1, 2, 1]</td>\n",
       "      <td>25</td>\n",
       "      <td>4</td>\n",
       "      <td>0</td>\n",
       "    </tr>\n",
       "    <tr>\n",
       "      <th>16</th>\n",
       "      <td>[2, 2]</td>\n",
       "      <td>17</td>\n",
       "      <td>2</td>\n",
       "      <td>1</td>\n",
       "    </tr>\n",
       "    <tr>\n",
       "      <th>17</th>\n",
       "      <td>[1, 2]</td>\n",
       "      <td>13</td>\n",
       "      <td>2</td>\n",
       "      <td>1</td>\n",
       "    </tr>\n",
       "    <tr>\n",
       "      <th>18</th>\n",
       "      <td>[2, 1]</td>\n",
       "      <td>12</td>\n",
       "      <td>2</td>\n",
       "      <td>1</td>\n",
       "    </tr>\n",
       "    <tr>\n",
       "      <th>19</th>\n",
       "      <td>[1, 1]</td>\n",
       "      <td>10</td>\n",
       "      <td>2</td>\n",
       "      <td>1</td>\n",
       "    </tr>\n",
       "    <tr>\n",
       "      <th>20</th>\n",
       "      <td>[2]</td>\n",
       "      <td>23</td>\n",
       "      <td>1</td>\n",
       "      <td>2</td>\n",
       "    </tr>\n",
       "    <tr>\n",
       "      <th>21</th>\n",
       "      <td>[1]</td>\n",
       "      <td>15</td>\n",
       "      <td>1</td>\n",
       "      <td>2</td>\n",
       "    </tr>\n",
       "  </tbody>\n",
       "</table>\n",
       "</div>"
      ],
      "text/plain": [
       "    tag_sequence  score  length  example_index\n",
       "0   [1, 1, 1, 2]     33       4              0\n",
       "1   [1, 1, 1, 1]     32       4              0\n",
       "2   [2, 1, 1, 2]     31       4              0\n",
       "3   [1, 1, 2, 2]     30       4              0\n",
       "4   [1, 2, 1, 2]     30       4              0\n",
       "5   [2, 2, 1, 2]     30       4              0\n",
       "6   [2, 1, 1, 1]     30       4              0\n",
       "7   [2, 2, 2, 2]     29       4              0\n",
       "8   [1, 2, 1, 1]     29       4              0\n",
       "9   [1, 2, 2, 2]     29       4              0\n",
       "10  [2, 2, 1, 1]     29       4              0\n",
       "11  [2, 1, 2, 2]     28       4              0\n",
       "12  [1, 1, 2, 1]     27       4              0\n",
       "13  [1, 2, 2, 1]     26       4              0\n",
       "14  [2, 2, 2, 1]     26       4              0\n",
       "15  [2, 1, 2, 1]     25       4              0\n",
       "16        [2, 2]     17       2              1\n",
       "17        [1, 2]     13       2              1\n",
       "18        [2, 1]     12       2              1\n",
       "19        [1, 1]     10       2              1\n",
       "20           [2]     23       1              2\n",
       "21           [1]     15       1              2"
      ]
     },
     "execution_count": 35,
     "metadata": {},
     "output_type": "execute_result"
    }
   ],
   "source": [
    "expected_scores  # .query(\"length < 4\")"
   ]
  },
  {
   "cell_type": "code",
   "execution_count": 36,
   "id": "aa78aa2d",
   "metadata": {},
   "outputs": [
    {
     "data": {
      "text/plain": [
       "(tensor([[[1, 1, 1, 2],\n",
       "          [1, 1, 1, 1],\n",
       "          [2, 1, 1, 2],\n",
       "          [1, 1, 2, 2],\n",
       "          [1, 2, 1, 2],\n",
       "          [2, 2, 1, 2],\n",
       "          [2, 1, 1, 1],\n",
       "          [1, 2, 2, 2],\n",
       "          [1, 2, 1, 1],\n",
       "          [2, 2, 1, 1]],\n",
       " \n",
       "         [[2, 2, 0, 0],\n",
       "          [1, 2, 0, 0],\n",
       "          [2, 1, 0, 0],\n",
       "          [1, 1, 0, 0],\n",
       "          [1, 2, 0, 0],\n",
       "          [1, 2, 0, 0],\n",
       "          [1, 2, 0, 0],\n",
       "          [1, 2, 0, 0],\n",
       "          [1, 2, 0, 0],\n",
       "          [1, 2, 0, 0]],\n",
       " \n",
       "         [[2, 0, 0, 0],\n",
       "          [1, 0, 0, 0],\n",
       "          [0, 0, 0, 0],\n",
       "          [0, 0, 0, 0],\n",
       "          [0, 0, 0, 0],\n",
       "          [0, 0, 0, 0],\n",
       "          [0, 0, 0, 0],\n",
       "          [0, 0, 0, 0],\n",
       "          [0, 0, 0, 0],\n",
       "          [0, 0, 0, 0]]]),\n",
       " tensor([[    33.,     32.,     31.,     30.,     30.,     30.,     30.,     29.,\n",
       "              29.,     29.],\n",
       "         [    17.,     13.,     12.,     10.,  -9991.,  -9991.,  -9991.,  -9991.,\n",
       "           -9991.,  -9991.],\n",
       "         [    23.,     15., -10000., -10000., -10000., -10000., -10000., -10000.,\n",
       "          -10000., -10000.]]))"
      ]
     },
     "execution_count": 36,
     "metadata": {},
     "output_type": "execute_result"
    }
   ],
   "source": [
    "viterbi_nbest_predictions = crf_head.viterbi_algorithm(\n",
    "    log_emissions=log_emissions, lengths=lengths, mask=mask, top_k=top_k\n",
    ")\n",
    "viterbi_nbest_predictions"
   ]
  },
  {
   "cell_type": "code",
   "execution_count": 37,
   "id": "18ebfcef-6eaa-4fc5-a2f9-e8be637c2477",
   "metadata": {},
   "outputs": [],
   "source": [
    "from copy import deepcopy"
   ]
  },
  {
   "cell_type": "code",
   "execution_count": 38,
   "id": "bacc4a66-950a-4f65-9cc9-7d57b9ea6045",
   "metadata": {},
   "outputs": [],
   "source": [
    "def verify_viterbi_predictions(\n",
    "    expected_scores, top_k, viterbi_nbest_predictions, mask_for_tags, padding_tag_id=0\n",
    "):\n",
    "    # mask out the padding tag, so be able to correctly \n",
    "    # calculate the max number of meaningful sequences\n",
    "    mask_for_tags = deepcopy(mask_for_tags)\n",
    "    mask_for_tags[..., padding_tag_id] = False \n",
    "    max_variations_per_example = mask_for_tags.sum(2)\n",
    "    max_variations_per_example[max_variations_per_example == 0] = 1\n",
    "    max_variations_per_example = max_variations_per_example.prod(1)\n",
    "    num_examples = expected_scores[\"example_index\"].max() + 1\n",
    "    for i in range(num_examples):\n",
    "        hand_predictions_for_example = expected_scores[expected_scores[\"example_index\"] == i]\n",
    "        score_to_tag_seqences = {\n",
    "            score: group[\"tag_sequence\"].tolist()\n",
    "            for score, group in hand_predictions_for_example.groupby(\"score\")\n",
    "        }\n",
    "        for j in range(top_k):\n",
    "            if j < max_variations_per_example[i]: # the maximum number of tag-sequences for the given example\n",
    "                model_prediction = viterbi_nbest_predictions[0][i, j].tolist()[:lengths[i]]\n",
    "                model_score = viterbi_nbest_predictions[1][i, j].item()\n",
    "                assert model_prediction in score_to_tag_seqences[model_score]"
   ]
  },
  {
   "cell_type": "code",
   "execution_count": 39,
   "id": "175bf69d-7017-4f0a-8198-46ef2141b86f",
   "metadata": {},
   "outputs": [],
   "source": [
    "verify_viterbi_predictions(\n",
    "    expected_scores, top_k, viterbi_nbest_predictions, mask, padding_tag_id=0\n",
    ")"
   ]
  },
  {
   "cell_type": "markdown",
   "id": "b0db51ba",
   "metadata": {},
   "source": [
    "#### Test Viterbi with constraints"
   ]
  },
  {
   "cell_type": "code",
   "execution_count": 40,
   "id": "255781d0",
   "metadata": {},
   "outputs": [],
   "source": [
    "constraints = convert_constraints(\n",
    "    [[-1, -1, 2, 1], [1, -1], [-1]]  # we require the sequence to end in ..., 2, 1\n",
    ")"
   ]
  },
  {
   "cell_type": "code",
   "execution_count": 41,
   "id": "5ca26d2a",
   "metadata": {},
   "outputs": [],
   "source": [
    "mask_for_lengths_and_tags = util.get_mask_for_tags(\n",
    "    length_mask, num_tags, constraints=constraints\n",
    ")"
   ]
  },
  {
   "cell_type": "code",
   "execution_count": 42,
   "id": "b712e021",
   "metadata": {},
   "outputs": [
    {
     "name": "stdout",
     "output_type": "stream",
     "text": [
      "208 µs ± 5.2 µs per loop (mean ± std. dev. of 7 runs, 1,000 loops each)\n"
     ]
    }
   ],
   "source": [
    "%%timeit\n",
    "crf_head.viterbi_algorithm(\n",
    "    log_emissions=log_emissions,\n",
    "    lengths=lengths,\n",
    "    mask=mask_for_lengths_and_tags,\n",
    "    top_k=top_k,\n",
    ")"
   ]
  },
  {
   "cell_type": "code",
   "execution_count": 43,
   "id": "3a24079a",
   "metadata": {},
   "outputs": [
    {
     "data": {
      "text/plain": [
       "(tensor([[[1, 1, 2, 1],\n",
       "          [1, 2, 2, 1],\n",
       "          [2, 2, 2, 1],\n",
       "          [2, 1, 2, 1],\n",
       "          [1, 1, 2, 2],\n",
       "          [1, 2, 2, 2],\n",
       "          [2, 2, 2, 2],\n",
       "          [2, 1, 2, 2],\n",
       "          [1, 1, 2, 1],\n",
       "          [1, 1, 2, 1]],\n",
       " \n",
       "         [[1, 2, 0, 0],\n",
       "          [1, 1, 0, 0],\n",
       "          [1, 2, 0, 0],\n",
       "          [1, 2, 0, 0],\n",
       "          [1, 2, 0, 0],\n",
       "          [1, 2, 0, 0],\n",
       "          [1, 2, 0, 0],\n",
       "          [1, 2, 0, 0],\n",
       "          [1, 2, 0, 0],\n",
       "          [1, 2, 0, 0]],\n",
       " \n",
       "         [[2, 0, 0, 0],\n",
       "          [1, 0, 0, 0],\n",
       "          [0, 0, 0, 0],\n",
       "          [0, 0, 0, 0],\n",
       "          [0, 0, 0, 0],\n",
       "          [0, 0, 0, 0],\n",
       "          [0, 0, 0, 0],\n",
       "          [0, 0, 0, 0],\n",
       "          [0, 0, 0, 0],\n",
       "          [0, 0, 0, 0]]]),\n",
       " tensor([[    27.,     26.,     26.,     25.,  -9970.,  -9971.,  -9971.,  -9972.,\n",
       "           -9975.,  -9975.],\n",
       "         [    13.,     10.,  -9991.,  -9991.,  -9991.,  -9991.,  -9991.,  -9991.,\n",
       "           -9991.,  -9991.],\n",
       "         [    23.,     15., -10000., -10000., -10000., -10000., -10000., -10000.,\n",
       "          -10000., -10000.]]))"
      ]
     },
     "execution_count": 43,
     "metadata": {},
     "output_type": "execute_result"
    }
   ],
   "source": [
    "viterbi_nbest_predictions = crf_head.viterbi_algorithm(\n",
    "    log_emissions=log_emissions,\n",
    "    lengths=lengths,\n",
    "    mask=mask_for_lengths_and_tags,\n",
    "    top_k=top_k,\n",
    ")\n",
    "viterbi_nbest_predictions"
   ]
  },
  {
   "cell_type": "code",
   "execution_count": 44,
   "id": "d7a38091",
   "metadata": {},
   "outputs": [
    {
     "data": {
      "text/html": [
       "<div>\n",
       "<style scoped>\n",
       "    .dataframe tbody tr th:only-of-type {\n",
       "        vertical-align: middle;\n",
       "    }\n",
       "\n",
       "    .dataframe tbody tr th {\n",
       "        vertical-align: top;\n",
       "    }\n",
       "\n",
       "    .dataframe thead th {\n",
       "        text-align: right;\n",
       "    }\n",
       "</style>\n",
       "<table border=\"1\" class=\"dataframe\">\n",
       "  <thead>\n",
       "    <tr style=\"text-align: right;\">\n",
       "      <th></th>\n",
       "      <th>tag_sequence</th>\n",
       "      <th>score</th>\n",
       "      <th>length</th>\n",
       "      <th>example_index</th>\n",
       "    </tr>\n",
       "  </thead>\n",
       "  <tbody>\n",
       "    <tr>\n",
       "      <th>12</th>\n",
       "      <td>[1, 1, 2, 1]</td>\n",
       "      <td>27</td>\n",
       "      <td>4</td>\n",
       "      <td>0</td>\n",
       "    </tr>\n",
       "    <tr>\n",
       "      <th>13</th>\n",
       "      <td>[1, 2, 2, 1]</td>\n",
       "      <td>26</td>\n",
       "      <td>4</td>\n",
       "      <td>0</td>\n",
       "    </tr>\n",
       "    <tr>\n",
       "      <th>14</th>\n",
       "      <td>[2, 2, 2, 1]</td>\n",
       "      <td>26</td>\n",
       "      <td>4</td>\n",
       "      <td>0</td>\n",
       "    </tr>\n",
       "    <tr>\n",
       "      <th>15</th>\n",
       "      <td>[2, 1, 2, 1]</td>\n",
       "      <td>25</td>\n",
       "      <td>4</td>\n",
       "      <td>0</td>\n",
       "    </tr>\n",
       "    <tr>\n",
       "      <th>17</th>\n",
       "      <td>[1, 2]</td>\n",
       "      <td>13</td>\n",
       "      <td>2</td>\n",
       "      <td>1</td>\n",
       "    </tr>\n",
       "    <tr>\n",
       "      <th>19</th>\n",
       "      <td>[1, 1]</td>\n",
       "      <td>10</td>\n",
       "      <td>2</td>\n",
       "      <td>1</td>\n",
       "    </tr>\n",
       "    <tr>\n",
       "      <th>20</th>\n",
       "      <td>[2]</td>\n",
       "      <td>23</td>\n",
       "      <td>1</td>\n",
       "      <td>2</td>\n",
       "    </tr>\n",
       "    <tr>\n",
       "      <th>21</th>\n",
       "      <td>[1]</td>\n",
       "      <td>15</td>\n",
       "      <td>1</td>\n",
       "      <td>2</td>\n",
       "    </tr>\n",
       "  </tbody>\n",
       "</table>\n",
       "</div>"
      ],
      "text/plain": [
       "    tag_sequence  score  length  example_index\n",
       "12  [1, 1, 2, 1]     27       4              0\n",
       "13  [1, 2, 2, 1]     26       4              0\n",
       "14  [2, 2, 2, 1]     26       4              0\n",
       "15  [2, 1, 2, 1]     25       4              0\n",
       "17        [1, 2]     13       2              1\n",
       "19        [1, 1]     10       2              1\n",
       "20           [2]     23       1              2\n",
       "21           [1]     15       1              2"
      ]
     },
     "execution_count": 44,
     "metadata": {},
     "output_type": "execute_result"
    }
   ],
   "source": [
    "expected_scores[\n",
    "    get_mask_for_scores_by_hand(expected_scores, constraints=constraints)\n",
    "].sort_values([\"length\", \"score\"], ascending=[False, False])"
   ]
  },
  {
   "cell_type": "code",
   "execution_count": 45,
   "id": "5fb2163f-d069-4c21-bd5a-c8e8e8971cec",
   "metadata": {},
   "outputs": [],
   "source": [
    "verify_viterbi_predictions(\n",
    "    expected_scores, top_k, viterbi_nbest_predictions, mask_for_lengths_and_tags, padding_tag_id=0\n",
    ")"
   ]
  },
  {
   "cell_type": "markdown",
   "id": "aa483df4",
   "metadata": {},
   "source": [
    "### **Test the partition function:**"
   ]
  },
  {
   "cell_type": "code",
   "execution_count": 46,
   "id": "bc3c4e8d",
   "metadata": {},
   "outputs": [
    {
     "data": {
      "text/plain": [
       "tensor([[ True,  True,  True,  True],\n",
       "        [ True,  True, False, False],\n",
       "        [ True, False, False, False]])"
      ]
     },
     "execution_count": 46,
     "metadata": {},
     "output_type": "execute_result"
    }
   ],
   "source": [
    "length_mask"
   ]
  },
  {
   "cell_type": "code",
   "execution_count": 47,
   "id": "d564a28e",
   "metadata": {},
   "outputs": [
    {
     "name": "stdout",
     "output_type": "stream",
     "text": [
      "257 µs ± 36.2 µs per loop (mean ± std. dev. of 7 runs, 1,000 loops each)\n"
     ]
    }
   ],
   "source": [
    "%%timeit\n",
    "crf_head._forward_algorithm(\n",
    "    log_emissions=log_emissions, lengths=lengths, mask=length_mask\n",
    ")"
   ]
  },
  {
   "cell_type": "code",
   "execution_count": 48,
   "id": "391719fc",
   "metadata": {},
   "outputs": [
    {
     "name": "stdout",
     "output_type": "stream",
     "text": [
      "330 µs ± 46.2 µs per loop (mean ± std. dev. of 7 runs, 1,000 loops each)\n"
     ]
    }
   ],
   "source": [
    "%%timeit\n",
    "crf_head._backward_algorithm(\n",
    "    log_emissions=log_emissions, lengths=lengths, mask=length_mask\n",
    ")"
   ]
  },
  {
   "cell_type": "code",
   "execution_count": 49,
   "id": "ec6f174e",
   "metadata": {},
   "outputs": [
    {
     "data": {
      "text/plain": [
       "(tensor([[[-1.0000e+04,  2.0000e+00,  3.0000e+00],\n",
       "          [-1.9997e+04,  1.3127e+01,  1.3693e+01],\n",
       "          [-1.9986e+04,  2.9211e+01,  2.7627e+01],\n",
       "          [-1.9971e+04,  3.2221e+01,  3.3284e+01]],\n",
       " \n",
       "         [[-1.0000e+04,  4.0000e+00,  9.0000e+00],\n",
       "          [-1.9991e+04,  1.2127e+01,  1.7018e+01],\n",
       "          [-1.9983e+04, -9.9808e+03, -9.9800e+03],\n",
       "          [-2.9980e+04, -1.9976e+04, -1.9976e+04]],\n",
       " \n",
       "         [[-1.0000e+04,  1.5000e+01,  2.3000e+01],\n",
       "          [-1.9977e+04, -9.9750e+03, -9.9740e+03],\n",
       "          [-2.9974e+04, -1.9970e+04, -1.9970e+04],\n",
       "          [-3.9969e+04, -2.9965e+04, -2.9966e+04]]]),\n",
       " tensor([33.5805, 17.0256, 23.0003]))"
      ]
     },
     "execution_count": 49,
     "metadata": {},
     "output_type": "execute_result"
    }
   ],
   "source": [
    "# partition function computed bt the forward algorithm:\n",
    "log_alpha, log_partition_forward = crf_head._forward_algorithm(\n",
    "    log_emissions=log_emissions, lengths=lengths, mask=length_mask\n",
    ")\n",
    "log_alpha, log_partition_forward"
   ]
  },
  {
   "cell_type": "code",
   "execution_count": 50,
   "id": "5fb43566",
   "metadata": {},
   "outputs": [
    {
     "data": {
      "text/plain": [
       "(tensor([[[-1.9973e+04,  3.3410e+01,  3.1725e+01],\n",
       "          [-1.9985e+04,  2.6351e+01,  2.4562e+01],\n",
       "          [-2.0000e+04,  1.5313e+01,  1.3049e+01],\n",
       "          [-1.0000e+04, -2.0000e+00,  0.0000e+00]],\n",
       " \n",
       "         [[-1.9995e+04,  1.3049e+01,  1.7007e+01],\n",
       "          [-1.0000e+04,  1.0000e+00,  5.0000e+00],\n",
       "          [-1.9983e+04, -9.9789e+03, -9.9800e+03],\n",
       "          [-2.9979e+04, -1.9974e+04, -1.9976e+04]],\n",
       " \n",
       "         [[-1.0000e+04,  1.5000e+01,  2.3000e+01],\n",
       "          [-1.9977e+04, -9.9730e+03, -9.9740e+03],\n",
       "          [-2.9973e+04, -1.9968e+04, -1.9970e+04],\n",
       "          [-3.9968e+04, -2.9963e+04, -2.9966e+04]]]),\n",
       " tensor([33.5805, 17.0256, 23.0003]))"
      ]
     },
     "execution_count": 50,
     "metadata": {},
     "output_type": "execute_result"
    }
   ],
   "source": [
    "# perition functions computed by the backward algorithm\n",
    "log_beta, log_partition_backward = crf_head._backward_algorithm(\n",
    "    log_emissions=log_emissions, lengths=lengths, mask=length_mask\n",
    ")\n",
    "log_beta, log_partition_backward"
   ]
  },
  {
   "cell_type": "code",
   "execution_count": 51,
   "id": "e56a5634",
   "metadata": {},
   "outputs": [
    {
     "name": "stderr",
     "output_type": "stream",
     "text": [
      "/var/folders/2w/ymdqk_wx4pv8gw2pyx66tbjw0000gq/T/ipykernel_91592/2580238756.py:10: DeprecationWarning: DataFrameGroupBy.apply operated on the grouping columns. This behavior is deprecated, and in a future version of pandas the grouping columns will be excluded from the operation. Either pass `include_groups=False` to exclude the groupings or explicitly select the grouping columns after groupby to silence this warning.\n",
      "  return scores_for_constrained_sequences.groupby(\"example_index\").apply(\n"
     ]
    },
    {
     "data": {
      "text/plain": [
       "example_index\n",
       "0    tensor(33.5805)\n",
       "1    tensor(17.0256)\n",
       "2    tensor(23.0003)\n",
       "dtype: object"
      ]
     },
     "execution_count": 51,
     "metadata": {},
     "output_type": "execute_result"
    }
   ],
   "source": [
    "# partition function computed from the scores computed by hand:\n",
    "log_partition_by_hand = compute_log_partition_by_hand(expected_scores)\n",
    "log_partition_by_hand"
   ]
  },
  {
   "cell_type": "code",
   "execution_count": 52,
   "id": "6a7d2d10",
   "metadata": {},
   "outputs": [
    {
     "data": {
      "text/plain": [
       "tensor([33.5805, 17.0256, 23.0003])"
      ]
     },
     "execution_count": 52,
     "metadata": {},
     "output_type": "execute_result"
    }
   ],
   "source": [
    "log_partition_forward"
   ]
  },
  {
   "cell_type": "code",
   "execution_count": 53,
   "id": "b250569e",
   "metadata": {},
   "outputs": [
    {
     "data": {
      "text/plain": [
       "tensor([33.5805, 17.0256, 23.0003])"
      ]
     },
     "execution_count": 53,
     "metadata": {},
     "output_type": "execute_result"
    }
   ],
   "source": [
    "log_partition_backward"
   ]
  },
  {
   "cell_type": "code",
   "execution_count": 54,
   "id": "c6e3c95f",
   "metadata": {},
   "outputs": [
    {
     "data": {
      "text/plain": [
       "tensor([33.5805, 17.0256, 23.0003])"
      ]
     },
     "execution_count": 54,
     "metadata": {},
     "output_type": "execute_result"
    }
   ],
   "source": [
    "torch.stack(log_partition_by_hand.tolist())"
   ]
  },
  {
   "cell_type": "code",
   "execution_count": 55,
   "id": "907391bd",
   "metadata": {},
   "outputs": [],
   "source": [
    "assert (\n",
    "    log_partition_forward.tolist()\n",
    "    == log_partition_backward.tolist()\n",
    "    == torch.stack(log_partition_by_hand.tolist()).tolist()\n",
    ")"
   ]
  },
  {
   "cell_type": "markdown",
   "id": "56508b83",
   "metadata": {},
   "source": [
    "Run the \"forward\" method:"
   ]
  },
  {
   "cell_type": "code",
   "execution_count": 56,
   "id": "c670effe",
   "metadata": {},
   "outputs": [
    {
     "data": {
      "text/plain": [
       "{'log_partition': tensor([33.5805, 17.0256, 23.0003]),\n",
       " 'log_alpha': tensor([[[-1.0000e+04,  2.0000e+00,  3.0000e+00],\n",
       "          [-1.9997e+04,  1.3127e+01,  1.3693e+01],\n",
       "          [-1.9986e+04,  2.9211e+01,  2.7627e+01],\n",
       "          [-1.9971e+04,  3.2221e+01,  3.3284e+01]],\n",
       " \n",
       "         [[-1.0000e+04,  4.0000e+00,  9.0000e+00],\n",
       "          [-1.9991e+04,  1.2127e+01,  1.7018e+01],\n",
       "          [-1.9983e+04, -9.9808e+03, -9.9800e+03],\n",
       "          [-2.9980e+04, -1.9976e+04, -1.9976e+04]],\n",
       " \n",
       "         [[-1.0000e+04,  1.5000e+01,  2.3000e+01],\n",
       "          [-1.9977e+04, -9.9750e+03, -9.9740e+03],\n",
       "          [-2.9974e+04, -1.9970e+04, -1.9970e+04],\n",
       "          [-3.9969e+04, -2.9965e+04, -2.9966e+04]]]),\n",
       " 'logits': None,\n",
       " 'log_beta': tensor([[[-1.9973e+04,  3.3410e+01,  3.1725e+01],\n",
       "          [-1.9985e+04,  2.6351e+01,  2.4562e+01],\n",
       "          [-2.0000e+04,  1.5313e+01,  1.3049e+01],\n",
       "          [-1.0000e+04, -2.0000e+00,  0.0000e+00]],\n",
       " \n",
       "         [[-1.9995e+04,  1.3049e+01,  1.7007e+01],\n",
       "          [-1.0000e+04,  1.0000e+00,  5.0000e+00],\n",
       "          [-1.9983e+04, -9.9789e+03, -9.9800e+03],\n",
       "          [-2.9979e+04, -1.9974e+04, -1.9976e+04]],\n",
       " \n",
       "         [[-1.0000e+04,  1.5000e+01,  2.3000e+01],\n",
       "          [-1.9977e+04, -9.9730e+03, -9.9740e+03],\n",
       "          [-2.9973e+04, -1.9968e+04, -1.9970e+04],\n",
       "          [-3.9968e+04, -2.9963e+04, -2.9966e+04]]]),\n",
       " 'backwards_partition': tensor([33.5805, 17.0256, 23.0003])}"
      ]
     },
     "execution_count": 56,
     "metadata": {},
     "output_type": "execute_result"
    }
   ],
   "source": [
    "crf_head.forward(log_emissions=log_emissions, lengths=lengths, compute_log_beta=True)"
   ]
  },
  {
   "cell_type": "markdown",
   "id": "79408431",
   "metadata": {},
   "source": [
    "### Test constrained partition functions:"
   ]
  },
  {
   "cell_type": "code",
   "execution_count": 57,
   "id": "941cac02",
   "metadata": {},
   "outputs": [],
   "source": [
    "constraints = convert_constraints(\n",
    "    [[-1, -1, 1, -1], [-1, 1], [-1]]  # we require the sequence to end in ..., 2, 1\n",
    ")"
   ]
  },
  {
   "cell_type": "code",
   "execution_count": 58,
   "id": "7c3f282b",
   "metadata": {},
   "outputs": [],
   "source": [
    "mask_for_lengths_and_tags = util.get_mask_for_tags(\n",
    "    length_mask, num_tags, constraints=constraints\n",
    ")"
   ]
  },
  {
   "cell_type": "code",
   "execution_count": 59,
   "id": "917ca808",
   "metadata": {},
   "outputs": [
    {
     "data": {
      "text/plain": [
       "tensor([33.5243, 12.1269, 23.0003])"
      ]
     },
     "execution_count": 59,
     "metadata": {},
     "output_type": "execute_result"
    }
   ],
   "source": [
    "constrained_log_alpha, constrained_log_partition_forward = crf_head._forward_algorithm(\n",
    "    log_emissions=log_emissions, lengths=lengths, mask=mask_for_lengths_and_tags\n",
    ")\n",
    "constrained_log_partition_forward"
   ]
  },
  {
   "cell_type": "code",
   "execution_count": 60,
   "id": "88122bbd",
   "metadata": {},
   "outputs": [
    {
     "data": {
      "text/plain": [
       "tensor([33.5243, 12.1269, 23.0003])"
      ]
     },
     "execution_count": 60,
     "metadata": {},
     "output_type": "execute_result"
    }
   ],
   "source": [
    "constrained_log_beta, constrained_log_partition_backward = crf_head._backward_algorithm(\n",
    "    log_emissions=log_emissions, lengths=lengths, mask=mask_for_lengths_and_tags\n",
    ")\n",
    "constrained_log_partition_backward"
   ]
  },
  {
   "cell_type": "code",
   "execution_count": 61,
   "id": "7176aa98",
   "metadata": {},
   "outputs": [
    {
     "data": {
      "text/html": [
       "<div>\n",
       "<style scoped>\n",
       "    .dataframe tbody tr th:only-of-type {\n",
       "        vertical-align: middle;\n",
       "    }\n",
       "\n",
       "    .dataframe tbody tr th {\n",
       "        vertical-align: top;\n",
       "    }\n",
       "\n",
       "    .dataframe thead th {\n",
       "        text-align: right;\n",
       "    }\n",
       "</style>\n",
       "<table border=\"1\" class=\"dataframe\">\n",
       "  <thead>\n",
       "    <tr style=\"text-align: right;\">\n",
       "      <th></th>\n",
       "      <th>tag_sequence</th>\n",
       "      <th>score</th>\n",
       "      <th>length</th>\n",
       "      <th>example_index</th>\n",
       "    </tr>\n",
       "  </thead>\n",
       "  <tbody>\n",
       "    <tr>\n",
       "      <th>0</th>\n",
       "      <td>[1, 1, 1, 2]</td>\n",
       "      <td>33</td>\n",
       "      <td>4</td>\n",
       "      <td>0</td>\n",
       "    </tr>\n",
       "    <tr>\n",
       "      <th>1</th>\n",
       "      <td>[1, 1, 1, 1]</td>\n",
       "      <td>32</td>\n",
       "      <td>4</td>\n",
       "      <td>0</td>\n",
       "    </tr>\n",
       "    <tr>\n",
       "      <th>2</th>\n",
       "      <td>[2, 1, 1, 2]</td>\n",
       "      <td>31</td>\n",
       "      <td>4</td>\n",
       "      <td>0</td>\n",
       "    </tr>\n",
       "    <tr>\n",
       "      <th>4</th>\n",
       "      <td>[1, 2, 1, 2]</td>\n",
       "      <td>30</td>\n",
       "      <td>4</td>\n",
       "      <td>0</td>\n",
       "    </tr>\n",
       "    <tr>\n",
       "      <th>5</th>\n",
       "      <td>[2, 2, 1, 2]</td>\n",
       "      <td>30</td>\n",
       "      <td>4</td>\n",
       "      <td>0</td>\n",
       "    </tr>\n",
       "    <tr>\n",
       "      <th>6</th>\n",
       "      <td>[2, 1, 1, 1]</td>\n",
       "      <td>30</td>\n",
       "      <td>4</td>\n",
       "      <td>0</td>\n",
       "    </tr>\n",
       "    <tr>\n",
       "      <th>8</th>\n",
       "      <td>[1, 2, 1, 1]</td>\n",
       "      <td>29</td>\n",
       "      <td>4</td>\n",
       "      <td>0</td>\n",
       "    </tr>\n",
       "    <tr>\n",
       "      <th>10</th>\n",
       "      <td>[2, 2, 1, 1]</td>\n",
       "      <td>29</td>\n",
       "      <td>4</td>\n",
       "      <td>0</td>\n",
       "    </tr>\n",
       "    <tr>\n",
       "      <th>18</th>\n",
       "      <td>[2, 1]</td>\n",
       "      <td>12</td>\n",
       "      <td>2</td>\n",
       "      <td>1</td>\n",
       "    </tr>\n",
       "    <tr>\n",
       "      <th>19</th>\n",
       "      <td>[1, 1]</td>\n",
       "      <td>10</td>\n",
       "      <td>2</td>\n",
       "      <td>1</td>\n",
       "    </tr>\n",
       "    <tr>\n",
       "      <th>20</th>\n",
       "      <td>[2]</td>\n",
       "      <td>23</td>\n",
       "      <td>1</td>\n",
       "      <td>2</td>\n",
       "    </tr>\n",
       "    <tr>\n",
       "      <th>21</th>\n",
       "      <td>[1]</td>\n",
       "      <td>15</td>\n",
       "      <td>1</td>\n",
       "      <td>2</td>\n",
       "    </tr>\n",
       "  </tbody>\n",
       "</table>\n",
       "</div>"
      ],
      "text/plain": [
       "    tag_sequence  score  length  example_index\n",
       "0   [1, 1, 1, 2]     33       4              0\n",
       "1   [1, 1, 1, 1]     32       4              0\n",
       "2   [2, 1, 1, 2]     31       4              0\n",
       "4   [1, 2, 1, 2]     30       4              0\n",
       "5   [2, 2, 1, 2]     30       4              0\n",
       "6   [2, 1, 1, 1]     30       4              0\n",
       "8   [1, 2, 1, 1]     29       4              0\n",
       "10  [2, 2, 1, 1]     29       4              0\n",
       "18        [2, 1]     12       2              1\n",
       "19        [1, 1]     10       2              1\n",
       "20           [2]     23       1              2\n",
       "21           [1]     15       1              2"
      ]
     },
     "execution_count": 61,
     "metadata": {},
     "output_type": "execute_result"
    }
   ],
   "source": [
    "expected_scores.loc[\n",
    "    get_mask_for_scores_by_hand(expected_scores, constraints=constraints)\n",
    "]"
   ]
  },
  {
   "cell_type": "code",
   "execution_count": 62,
   "id": "ae8462a4",
   "metadata": {},
   "outputs": [
    {
     "name": "stderr",
     "output_type": "stream",
     "text": [
      "/var/folders/2w/ymdqk_wx4pv8gw2pyx66tbjw0000gq/T/ipykernel_91592/2580238756.py:10: DeprecationWarning: DataFrameGroupBy.apply operated on the grouping columns. This behavior is deprecated, and in a future version of pandas the grouping columns will be excluded from the operation. Either pass `include_groups=False` to exclude the groupings or explicitly select the grouping columns after groupby to silence this warning.\n",
      "  return scores_for_constrained_sequences.groupby(\"example_index\").apply(\n"
     ]
    },
    {
     "data": {
      "text/plain": [
       "tensor([33.5243, 12.1269, 23.0003])"
      ]
     },
     "execution_count": 62,
     "metadata": {},
     "output_type": "execute_result"
    }
   ],
   "source": [
    "constrained_log_partition_by_hand = compute_log_partition_by_hand(\n",
    "    expected_scores, constraints=constraints\n",
    ")\n",
    "constrained_log_partition_by_hand = torch.stack(\n",
    "    constrained_log_partition_by_hand.tolist()\n",
    ")\n",
    "constrained_log_partition_by_hand"
   ]
  },
  {
   "cell_type": "markdown",
   "id": "3037704f",
   "metadata": {},
   "source": [
    "Run the \"forward\" method which will do all of the above:"
   ]
  },
  {
   "cell_type": "code",
   "execution_count": 63,
   "id": "28c0a040",
   "metadata": {},
   "outputs": [
    {
     "data": {
      "text/plain": [
       "{'log_partition': tensor([33.5243, 12.1269, 23.0003]),\n",
       " 'log_alpha': tensor([[[-1.0000e+04,  2.0000e+00,  3.0000e+00],\n",
       "          [-1.9997e+04,  1.3127e+01,  1.3693e+01],\n",
       "          [-1.9986e+04,  2.9211e+01, -9.9824e+03],\n",
       "          [-1.9971e+04,  3.2211e+01,  3.3211e+01]],\n",
       " \n",
       "         [[-1.0000e+04,  4.0000e+00,  9.0000e+00],\n",
       "          [-1.9991e+04,  1.2127e+01, -9.9880e+03],\n",
       "          [-1.9988e+04, -9.9829e+03, -9.9839e+03],\n",
       "          [-2.9983e+04, -1.9978e+04, -1.9979e+04]],\n",
       " \n",
       "         [[-1.0000e+04,  1.5000e+01,  2.3000e+01],\n",
       "          [-1.9977e+04, -9.9750e+03, -9.9740e+03],\n",
       "          [-2.9974e+04, -1.9970e+04, -1.9970e+04],\n",
       "          [-3.9969e+04, -2.9965e+04, -2.9966e+04]]]),\n",
       " 'logits': None,\n",
       " 'log_beta': tensor([[[-1.9974e+04,  3.3362e+01,  3.1627e+01],\n",
       "          [-1.9985e+04,  2.6313e+01,  2.4313e+01],\n",
       "          [-2.0000e+04,  1.5313e+01, -9.9970e+03],\n",
       "          [-1.0000e+04, -2.0000e+00,  0.0000e+00]],\n",
       " \n",
       "         [[-1.9999e+04,  1.0000e+01,  1.2000e+01],\n",
       "          [-1.0000e+04,  1.0000e+00, -1.0000e+04],\n",
       "          [-1.9988e+04, -9.9837e+03, -9.9850e+03],\n",
       "          [-2.9983e+04, -1.9979e+04, -1.9981e+04]],\n",
       " \n",
       "         [[-1.0000e+04,  1.5000e+01,  2.3000e+01],\n",
       "          [-1.9977e+04, -9.9730e+03, -9.9740e+03],\n",
       "          [-2.9973e+04, -1.9968e+04, -1.9970e+04],\n",
       "          [-3.9968e+04, -2.9963e+04, -2.9966e+04]]]),\n",
       " 'backwards_partition': tensor([33.5243, 12.1269, 23.0003])}"
      ]
     },
     "execution_count": 63,
     "metadata": {},
     "output_type": "execute_result"
    }
   ],
   "source": [
    "crf_head.forward(\n",
    "    log_emissions=log_emissions,\n",
    "    lengths=lengths,\n",
    "    mask=mask_for_lengths_and_tags,\n",
    "    compute_log_beta=True,\n",
    ")"
   ]
  },
  {
   "cell_type": "markdown",
   "id": "7e17e4ac",
   "metadata": {},
   "source": [
    "**We see a small discrepancy in partition functions when adding constraints to the backward algorithm...**"
   ]
  },
  {
   "cell_type": "code",
   "execution_count": 64,
   "id": "4983685c",
   "metadata": {},
   "outputs": [
    {
     "data": {
      "text/plain": [
       "([33.52425765991211, 12.126928329467773, 23.000335693359375],\n",
       " [33.524261474609375, 12.126928329467773, 23.000335693359375],\n",
       " [33.524261474609375, 12.126928329467773, 23.000335693359375])"
      ]
     },
     "execution_count": 64,
     "metadata": {},
     "output_type": "execute_result"
    }
   ],
   "source": [
    "(\n",
    "    constrained_log_partition_by_hand.tolist(),\n",
    "    constrained_log_partition_forward.tolist(),\n",
    "    constrained_log_partition_backward.tolist()\n",
    ")"
   ]
  },
  {
   "cell_type": "code",
   "execution_count": 65,
   "id": "878ee100",
   "metadata": {},
   "outputs": [],
   "source": [
    "torch.testing.assert_close(\n",
    "    constrained_log_partition_by_hand, constrained_log_partition_forward\n",
    ")\n",
    "torch.testing.assert_close(\n",
    "    constrained_log_partition_by_hand, constrained_log_partition_backward\n",
    ")"
   ]
  },
  {
   "cell_type": "markdown",
   "id": "4e68e233-5ae3-4bf8-891e-a53828908608",
   "metadata": {},
   "source": [
    "### Test that the loglik and weighted loglik match"
   ]
  },
  {
   "cell_type": "code",
   "execution_count": 66,
   "id": "c6418aaa-1843-4063-aae2-8063500e6e16",
   "metadata": {},
   "outputs": [],
   "source": [
    "all_forward_output = crf_head.forward(\n",
    "    all_emissions, lengths=torch.LongTensor([4] * 16 + [2] * 4 + [1] * 2), tags=all_tags\n",
    ")\n",
    "weighted_log_likelihoods = crf_head.weighted_log_likelihood(\n",
    "    log_emissions=all_emissions, \n",
    "    lengths=torch.LongTensor([4] * 16 + [2] * 4 + [1] * 2),\n",
    "    tags=all_tags,\n",
    "    log_alpha=all_forward_output[\"log_alpha\"],\n",
    "    weights=torch.tensor([1, 1, 1])\n",
    ")\n",
    "log_likelihoods = crf_head.log_likelihood(\n",
    "    logits=all_forward_output[\"logits\"],\n",
    "    log_partition=all_forward_output[\"log_partition\"]\n",
    ")\n",
    "torch.testing.assert_close(log_likelihoods, weighted_log_likelihoods)"
   ]
  },
  {
   "cell_type": "markdown",
   "id": "af93f32d",
   "metadata": {},
   "source": [
    "#### Test that marginals (computed using log_alpha and log_beta) are correct:"
   ]
  },
  {
   "cell_type": "code",
   "execution_count": 67,
   "id": "9a3bca16",
   "metadata": {},
   "outputs": [
    {
     "data": {
      "text/plain": [
       "tensor([[[-3.0008e+04, -1.7010e-01, -1.8552e+00],\n",
       "         [-4.0020e+04, -1.0285e-01, -2.3255e+00],\n",
       "         [-4.0031e+04, -5.6278e-02, -2.9054e+00],\n",
       "         [-3.0003e+04, -1.3594e+00, -2.9681e-01]],\n",
       "\n",
       "        [[-3.0013e+04, -3.9770e+00, -1.8919e-02],\n",
       "         [-3.0013e+04, -4.8987e+00, -7.4844e-03],\n",
       "         [-3.9995e+04, -2.0098e+04, -2.0117e+04],\n",
       "         [-5.9974e+04, -3.9767e+04, -3.9970e+04]],\n",
       "\n",
       "        [[-2.0024e+04, -8.0003e+00, -3.3569e-04],\n",
       "         [-4.4977e+04, -2.3182e+04, -2.2094e+04],\n",
       "         [-5.9981e+04, -4.0082e+04, -4.0104e+04],\n",
       "         [-7.9959e+04, -5.9751e+04, -5.9954e+04]]])"
      ]
     },
     "execution_count": 67,
     "metadata": {},
     "output_type": "execute_result"
    }
   ],
   "source": [
    "log_marginals = crf_head.get_point_log_marginals(\n",
    "    log_emissions=log_emissions,\n",
    "    log_alpha=log_alpha,\n",
    "    log_beta=log_beta,\n",
    "    log_partition=log_partition_backward,\n",
    ")\n",
    "log_marginals  # first column is for the padding tag, so needs to be ignored"
   ]
  },
  {
   "cell_type": "code",
   "execution_count": 68,
   "id": "87bc9869",
   "metadata": {},
   "outputs": [
    {
     "data": {
      "text/plain": [
       "tensor([[[0.0000e+00, 8.4358e-01, 1.5642e-01],\n",
       "         [0.0000e+00, 9.0226e-01, 9.7739e-02],\n",
       "         [0.0000e+00, 9.4528e-01, 5.4725e-02],\n",
       "         [0.0000e+00, 2.5682e-01, 7.4318e-01]],\n",
       "\n",
       "        [[0.0000e+00, 1.8741e-02, 9.8126e-01],\n",
       "         [0.0000e+00, 7.4562e-03, 9.9254e-01],\n",
       "         [0.0000e+00, 0.0000e+00, 0.0000e+00],\n",
       "         [0.0000e+00, 0.0000e+00, 0.0000e+00]],\n",
       "\n",
       "        [[0.0000e+00, 3.3535e-04, 9.9966e-01],\n",
       "         [0.0000e+00, 0.0000e+00, 0.0000e+00],\n",
       "         [0.0000e+00, 0.0000e+00, 0.0000e+00],\n",
       "         [0.0000e+00, 0.0000e+00, 0.0000e+00]]])"
      ]
     },
     "execution_count": 68,
     "metadata": {},
     "output_type": "execute_result"
    }
   ],
   "source": [
    "torch.exp(log_marginals)"
   ]
  },
  {
   "cell_type": "code",
   "execution_count": 69,
   "id": "27e0dcd0",
   "metadata": {},
   "outputs": [
    {
     "data": {
      "text/plain": [
       "tensor(-0.1029)"
      ]
     },
     "execution_count": 69,
     "metadata": {},
     "output_type": "execute_result"
    }
   ],
   "source": [
    "compute_marginal_by_hand(\n",
    "    expected_scores,\n",
    "    log_partition_by_hand=log_partition_by_hand,\n",
    "    position=1,\n",
    "    tag=1,\n",
    "    example_index=0,\n",
    ")"
   ]
  },
  {
   "cell_type": "code",
   "execution_count": 70,
   "id": "b66bdadf",
   "metadata": {},
   "outputs": [],
   "source": [
    "# compute all marginals by hand\n",
    "marginals_by_hand = []\n",
    "for example_index in sorted(expected_scores[\"example_index\"].unique()):\n",
    "    seq_length = expected_scores.query(\"example_index == @example_index\")[\n",
    "        \"length\"\n",
    "    ].tolist()[0]\n",
    "    marginals_by_hand_for_example = torch.zeros(seq_length, 2)\n",
    "    for position in range(seq_length):\n",
    "        for j, tag in enumerate([1, 2]):\n",
    "            marginals_by_hand_for_example[position, j] = compute_marginal_by_hand(\n",
    "                expected_scores,\n",
    "                log_partition_by_hand=log_partition_by_hand,\n",
    "                position=position,\n",
    "                tag=tag,\n",
    "                example_index=example_index,\n",
    "            )\n",
    "    marginals_by_hand.append(marginals_by_hand_for_example)"
   ]
  },
  {
   "cell_type": "markdown",
   "id": "3f336306",
   "metadata": {},
   "source": [
    "**We don't quite get equality, but we're close**:"
   ]
  },
  {
   "cell_type": "code",
   "execution_count": 71,
   "id": "c8c419a1",
   "metadata": {},
   "outputs": [
    {
     "data": {
      "text/plain": [
       "[tensor([[-0.1701, -1.8552],\n",
       "         [-0.1029, -2.3255],\n",
       "         [-0.0563, -2.9054],\n",
       "         [-1.3594, -0.2968]]),\n",
       " tensor([[-3.9770, -0.0189],\n",
       "         [-4.8987, -0.0075]]),\n",
       " tensor([[-8.0003e+00, -3.3569e-04]])]"
      ]
     },
     "execution_count": 71,
     "metadata": {},
     "output_type": "execute_result"
    }
   ],
   "source": [
    "marginals_by_hand"
   ]
  },
  {
   "cell_type": "code",
   "execution_count": 72,
   "id": "e4d9bc26",
   "metadata": {},
   "outputs": [],
   "source": [
    "for i in range(batch_size):\n",
    "    torch.testing.assert_close(marginals_by_hand[i], log_marginals[i, : lengths[i], 1:])"
   ]
  },
  {
   "cell_type": "markdown",
   "id": "acdc6746",
   "metadata": {},
   "source": [
    "Now compute marginals using constraint forwards and constraint backwards:"
   ]
  },
  {
   "cell_type": "code",
   "execution_count": 73,
   "id": "45748c59",
   "metadata": {},
   "outputs": [],
   "source": [
    "marginals_by_constrained_forward = []\n",
    "log_partition = crf_head._forward_algorithm(\n",
    "    log_emissions=log_emissions, lengths=lengths, mask=length_mask\n",
    ")[1]"
   ]
  },
  {
   "cell_type": "code",
   "execution_count": 74,
   "id": "b16a7d62",
   "metadata": {},
   "outputs": [
    {
     "data": {
      "text/plain": [
       "tensor([33.5805, 17.0256, 23.0003])"
      ]
     },
     "execution_count": 74,
     "metadata": {},
     "output_type": "execute_result"
    }
   ],
   "source": [
    "log_partition"
   ]
  },
  {
   "cell_type": "code",
   "execution_count": 75,
   "id": "7f319f39",
   "metadata": {},
   "outputs": [],
   "source": [
    "for example_index in sorted(expected_scores[\"example_index\"].unique()):\n",
    "    seq_length = lengths[example_index]\n",
    "    marginals_by_constrained_forward_for_example = torch.zeros(seq_length, 2)\n",
    "    for position in range(seq_length):\n",
    "        for j, tag in enumerate([1, 2]):\n",
    "            one_tag_contraints_constraints = [[]] * batch_size\n",
    "            one_tag_contraints_constraints[example_index] = [\n",
    "                (position, position + 1, tag)\n",
    "            ]\n",
    "            marginals_by_constrained_forward_for_example[\n",
    "                position, j\n",
    "            ] = crf_head._forward_algorithm(\n",
    "                log_emissions=log_emissions,\n",
    "                lengths=lengths,\n",
    "                mask=util.get_mask_for_tags(\n",
    "                    length_mask=length_mask,\n",
    "                    num_tags=3,  # adding the padding tag here\n",
    "                    constraints=one_tag_contraints_constraints,\n",
    "                ),\n",
    "            )[\n",
    "                1\n",
    "            ][\n",
    "                example_index\n",
    "            ]  # take only the log_partition\n",
    "    marginals_by_constrained_forward_for_example -= log_partition[example_index]\n",
    "    marginals_by_constrained_forward.append(\n",
    "        marginals_by_constrained_forward_for_example\n",
    "    )"
   ]
  },
  {
   "cell_type": "code",
   "execution_count": 76,
   "id": "de07153e",
   "metadata": {},
   "outputs": [
    {
     "data": {
      "text/plain": [
       "[tensor([[-0.1701, -1.8552],\n",
       "         [-0.1029, -2.3254],\n",
       "         [-0.0563, -2.9054],\n",
       "         [-1.3594, -0.2968]]),\n",
       " tensor([[-3.9770, -0.0189],\n",
       "         [-4.8987, -0.0075]]),\n",
       " tensor([[-8.0003e+00, -3.3569e-04]])]"
      ]
     },
     "execution_count": 76,
     "metadata": {},
     "output_type": "execute_result"
    }
   ],
   "source": [
    "marginals_by_constrained_forward"
   ]
  },
  {
   "cell_type": "code",
   "execution_count": 77,
   "id": "8cb18412",
   "metadata": {},
   "outputs": [],
   "source": [
    "for i in range(batch_size):\n",
    "    torch.testing.assert_close(\n",
    "        marginals_by_hand[i], marginals_by_constrained_forward[i]\n",
    "    )"
   ]
  },
  {
   "cell_type": "code",
   "execution_count": 78,
   "id": "b4665de1",
   "metadata": {},
   "outputs": [],
   "source": [
    "marginals_by_constrained_backward = []\n",
    "log_partition = crf_head._backward_algorithm(\n",
    "    log_emissions=log_emissions, lengths=lengths, mask=length_mask\n",
    ")[1]\n",
    "for example_index in sorted(expected_scores[\"example_index\"].unique()):\n",
    "    seq_length = lengths[example_index]\n",
    "    marginals_by_constrained_backward_for_example = torch.zeros(seq_length, 2)\n",
    "    for position in range(seq_length):\n",
    "        for j, tag in enumerate([1, 2]):\n",
    "            one_tag_contraints_constraints = [[]] * batch_size\n",
    "            one_tag_contraints_constraints[example_index] = [\n",
    "                (position, position + 1, tag)\n",
    "            ]\n",
    "            marginals_by_constrained_backward_for_example[\n",
    "                position, j\n",
    "            ] = crf_head._backward_algorithm(\n",
    "                log_emissions=log_emissions,\n",
    "                lengths=lengths,\n",
    "                mask=util.get_mask_for_tags(\n",
    "                    length_mask=length_mask,\n",
    "                    num_tags=3,  # adding the padding tag here\n",
    "                    constraints=one_tag_contraints_constraints,\n",
    "                ),\n",
    "            )[\n",
    "                1\n",
    "            ][\n",
    "                example_index\n",
    "            ]  # take only the log_partition\n",
    "    marginals_by_constrained_backward_for_example -= log_partition[example_index]\n",
    "    marginals_by_constrained_backward.append(\n",
    "        marginals_by_constrained_backward_for_example\n",
    "    )"
   ]
  },
  {
   "cell_type": "code",
   "execution_count": 79,
   "id": "e0bc775d",
   "metadata": {},
   "outputs": [],
   "source": [
    "for i in range(batch_size):\n",
    "    torch.testing.assert_close(\n",
    "        marginals_by_hand[i], marginals_by_constrained_backward[i]\n",
    "    )"
   ]
  },
  {
   "cell_type": "markdown",
   "id": "9e3783a8",
   "metadata": {},
   "source": [
    "**We see small differences in all ways for computing marginals.**"
   ]
  },
  {
   "cell_type": "markdown",
   "id": "ec97a6e8-0fbf-42d4-96f1-b94e8bc3eb2e",
   "metadata": {},
   "source": [
    "Uncomment the following cells to hit the assertion errors and see the discrepancy sizes."
   ]
  },
  {
   "cell_type": "code",
   "execution_count": 80,
   "id": "4aa98b9a",
   "metadata": {},
   "outputs": [],
   "source": [
    "# for i in range(batch_size):\n",
    "#     np.testing.assert_equal(\n",
    "#         np.array(marginals_by_hand[i]), np.array(log_marginals[i, : lengths[i], 1:])\n",
    "#     )"
   ]
  },
  {
   "cell_type": "code",
   "execution_count": 81,
   "id": "ae3c9c01",
   "metadata": {},
   "outputs": [],
   "source": [
    "# for i in range(batch_size):\n",
    "#     np.testing.assert_equal(\n",
    "#         np.array(marginals_by_constrained_forward[i]), np.array(marginals_by_hand[i])\n",
    "#     )"
   ]
  },
  {
   "cell_type": "code",
   "execution_count": 82,
   "id": "2b33167a",
   "metadata": {},
   "outputs": [],
   "source": [
    "# for i in range(batch_size):\n",
    "#     np.testing.assert_equal(\n",
    "#         np.array(marginals_by_constrained_backward[i]), np.array(marginals_by_hand[i])\n",
    "#     )"
   ]
  }
 ],
 "metadata": {
  "jupytext": {
   "formats": "ipynb,notebook_scripts//py:percent"
  },
  "kernelspec": {
   "display_name": "Python 3 (ipykernel)",
   "language": "python",
   "name": "python3"
  },
  "language_info": {
   "codemirror_mode": {
    "name": "ipython",
    "version": 3
   },
   "file_extension": ".py",
   "mimetype": "text/x-python",
   "name": "python",
   "nbconvert_exporter": "python",
   "pygments_lexer": "ipython3",
   "version": "3.11.4"
  }
 },
 "nbformat": 4,
 "nbformat_minor": 5
}
